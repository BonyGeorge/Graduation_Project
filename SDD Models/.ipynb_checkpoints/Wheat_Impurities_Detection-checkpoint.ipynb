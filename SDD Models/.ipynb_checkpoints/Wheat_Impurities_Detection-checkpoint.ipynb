{
 "cells": [
  {
   "cell_type": "markdown",
   "metadata": {
    "colab_type": "text",
    "id": "3DR-eO17geWu"
   },
   "source": [
    "<h1>Wheat_Impurities_Detection using Convolutional Neural Network.</h1>"
   ]
  },
  {
   "cell_type": "markdown",
   "metadata": {},
   "source": [
    "## *Problem Statement*:\n",
    "This model diffrentiates between Wild Oat & Wheat using our collected <a href=\"https://github.com/BonyGeorge/Wheat-Impurities-Detection/tree/master/DataSets/Dataset%201\"> Wild Oat Dataset</a> and Global wheat detection <a href=\"\"> Wheat Dataset</a>.\n",
    "\n",
    "## *Authors*:\n",
    "<ul>\n",
    "    <li>Nour Bahaa</li>\n",
    "    <li>Mai Mahmoud</li>\n",
    "    <li>Ibrahim Fawzy</li>\n",
    "    <li>Abanoub George</li>\n",
    "</ul>\n",
    "\n",
    "## *Supervisors*:\n",
    "<ul>\n",
    "    <li>Prof. Khaled Hussien</li>\n",
    "    <li>Eng. Hager Sobeah</li>\n",
    "    <li>Eng. Nour el-huda Ashraf</li>\n",
    "</ul>\n",
    "\n"
   ]
  },
  {
   "cell_type": "markdown",
   "metadata": {
    "colab_type": "text",
    "id": "EMefrVPCg-60"
   },
   "source": [
    "### Importing the main libraries"
   ]
  },
  {
   "cell_type": "code",
   "execution_count": 1,
   "metadata": {
    "colab": {},
    "colab_type": "code",
    "id": "sCV30xyVhFbE",
    "scrolled": false
   },
   "outputs": [
    {
     "name": "stderr",
     "output_type": "stream",
     "text": [
      "Using TensorFlow backend.\n"
     ]
    }
   ],
   "source": [
    "import tensorflow as tf\n",
    "from keras.preprocessing.image import ImageDataGenerator\n",
    "import numpy as np"
   ]
  },
  {
   "cell_type": "markdown",
   "metadata": {
    "colab_type": "text",
    "id": "MvE-heJNo3GG"
   },
   "source": [
    "### Pre-processing on the Trainning set (*Image Augmentation*)\n",
    "We are applying some geometerical tranformation to move the pixels to prevent overfitting of the model (Zoom In, Zoom Out, Rotations). "
   ]
  },
  {
   "cell_type": "code",
   "execution_count": 2,
   "metadata": {
    "colab": {},
    "colab_type": "code",
    "id": "0koUcJMJpEBD"
   },
   "outputs": [
    {
     "name": "stdout",
     "output_type": "stream",
     "text": [
      "Found 750 images belonging to 4 classes.\n"
     ]
    }
   ],
   "source": [
    "train_datagenarator = ImageDataGenerator(rescale = 1./255,\n",
    "                                         shear_range = 0.2,\n",
    "                                         zoom_range = 0.2,\n",
    "                                         horizontal_flip = True)\n",
    "\n",
    "trainning_set = train_datagenarator.flow_from_directory('/media/abanoublamie/5E76093A76091485/ssss/testing/wheat_rust/images/train',\n",
    "                                                         target_size = (64, 64),\n",
    "                                                         batch_size = 15,\n",
    "                                                         class_mode = 'binary')"
   ]
  },
  {
   "cell_type": "markdown",
   "metadata": {
    "colab_type": "text",
    "id": "mrCMmGw9pHys"
   },
   "source": [
    "### Pre-processing on the Test set"
   ]
  },
  {
   "cell_type": "code",
   "execution_count": 3,
   "metadata": {
    "colab": {},
    "colab_type": "code",
    "id": "SH4WzfOhpKc3"
   },
   "outputs": [
    {
     "name": "stdout",
     "output_type": "stream",
     "text": [
      "Found 321 images belonging to 4 classes.\n"
     ]
    }
   ],
   "source": [
    "test_datagenarator = ImageDataGenerator(rescale = 1./255)\n",
    "test_set = test_datagenarator.flow_from_directory('/media/abanoublamie/5E76093A76091485/ssss/testing/wheat_rust/images/validation',\n",
    "                                                   target_size = (64, 64),\n",
    "                                                   batch_size = 5,\n",
    "                                                   class_mode = 'binary')"
   ]
  },
  {
   "cell_type": "markdown",
   "metadata": {
    "colab_type": "text",
    "id": "ces1gXY2lmoX"
   },
   "source": [
    "### CNN init\n",
    "Intiating Our Convolutional Neural Network"
   ]
  },
  {
   "cell_type": "code",
   "execution_count": 4,
   "metadata": {
    "colab": {},
    "colab_type": "code",
    "id": "SAUt4UMPlhLS"
   },
   "outputs": [],
   "source": [
    "cnn = tf.keras.models.Sequential()"
   ]
  },
  {
   "cell_type": "markdown",
   "metadata": {
    "colab_type": "text",
    "id": "u5YJj_XMl5LF"
   },
   "source": [
    "###  Convolution Layer\n",
    "Feature Mapping (Applying filters), the activation function(ReLu) is responsible for performance enhancement because, it will output if positive, otherwise, it will output zero "
   ]
  },
  {
   "cell_type": "code",
   "execution_count": 5,
   "metadata": {
    "colab": {},
    "colab_type": "code",
    "id": "XPzPrMckl-hV"
   },
   "outputs": [],
   "source": [
    "cnn.add(tf.keras.layers.Conv2D(filters=32,\n",
    "                               kernel_size=3,\n",
    "                               activation='relu',\n",
    "                               input_shape=[64, 64, 3]))"
   ]
  },
  {
   "cell_type": "markdown",
   "metadata": {
    "colab_type": "text",
    "id": "tf87FpvxmNOJ"
   },
   "source": [
    "###  Pooling Layer (Max Pooling)\n",
    "Detect the features in any postition, background, light, texture and pattern"
   ]
  },
  {
   "cell_type": "code",
   "execution_count": 6,
   "metadata": {
    "colab": {},
    "colab_type": "code",
    "id": "ncpqPl69mOac"
   },
   "outputs": [],
   "source": [
    "cnn.add(tf.keras.layers.MaxPool2D(pool_size=2, strides=2))\n",
    "cnn.add(tf.keras.layers.Dropout(0.25))"
   ]
  },
  {
   "cell_type": "markdown",
   "metadata": {
    "colab_type": "text",
    "id": "xaTOgD8rm4mU"
   },
   "source": [
    "### Adding a second convolutional layer & poolin layer"
   ]
  },
  {
   "cell_type": "code",
   "execution_count": 7,
   "metadata": {
    "colab": {},
    "colab_type": "code",
    "id": "i_-FZjn_m8gk"
   },
   "outputs": [],
   "source": [
    "cnn.add(tf.keras.layers.Conv2D(filters=32,\n",
    "                               kernel_size=3,      # Kernal Size is the width and height of the 2D convolution window.\n",
    "\n",
    "                               activation='relu'))\n",
    "cnn.add(tf.keras.layers.MaxPool2D(pool_size=2, strides=2))"
   ]
  },
  {
   "cell_type": "markdown",
   "metadata": {
    "colab_type": "text",
    "id": "tmiEuvTunKfk"
   },
   "source": [
    "### Flattening\n",
    "Rotate the matrix to a column matrix for future use of the ANN"
   ]
  },
  {
   "cell_type": "code",
   "execution_count": 8,
   "metadata": {
    "colab": {},
    "colab_type": "code",
    "id": "6AZeOGCvnNZn"
   },
   "outputs": [],
   "source": [
    "cnn.add(tf.keras.layers.Flatten())"
   ]
  },
  {
   "cell_type": "markdown",
   "metadata": {
    "colab_type": "text",
    "id": "dAoSECOm203v"
   },
   "source": [
    "### Full Connection\n",
    "Matching the features with the classes to make a prediction. (units= Hidden Neurons)"
   ]
  },
  {
   "cell_type": "code",
   "execution_count": 9,
   "metadata": {
    "colab": {},
    "colab_type": "code",
    "id": "8GtmUlLd26Nq"
   },
   "outputs": [],
   "source": [
    "cnn.add(tf.keras.layers.Dense(units=128, activation='relu'))"
   ]
  },
  {
   "cell_type": "markdown",
   "metadata": {
    "colab_type": "text",
    "id": "yTldFvbX28Na"
   },
   "source": [
    "###  Output Layer"
   ]
  },
  {
   "cell_type": "code",
   "execution_count": 10,
   "metadata": {
    "colab": {},
    "colab_type": "code",
    "id": "1p_Zj1Mc3Ko_"
   },
   "outputs": [],
   "source": [
    "cnn.add(tf.keras.layers.Dense(units=4, activation='sigmoid'))"
   ]
  },
  {
   "cell_type": "markdown",
   "metadata": {
    "colab_type": "text",
    "id": "vfrFQACEnc6i"
   },
   "source": [
    "### Compiling the CNN\n",
    "We used Adam Optimizer to update network weights iterative based in training data."
   ]
  },
  {
   "cell_type": "code",
   "execution_count": 11,
   "metadata": {
    "colab": {},
    "colab_type": "code",
    "id": "NALksrNQpUlJ"
   },
   "outputs": [],
   "source": [
    "cnn.compile(loss ='sparse_categorical_crossentropy', optimizer='Adam', metrics =['accuracy'])"
   ]
  },
  {
   "cell_type": "markdown",
   "metadata": {
    "colab_type": "text",
    "id": "ehS-v3MIpX2h"
   },
   "source": [
    "### Trainning the CNN on the Trainning set and evaluating it on the Test set"
   ]
  },
  {
   "cell_type": "code",
   "execution_count": 12,
   "metadata": {
    "colab": {},
    "colab_type": "code",
    "id": "XUj1W4PJptta"
   },
   "outputs": [
    {
     "name": "stdout",
     "output_type": "stream",
     "text": [
      "Train for 50 steps, validate for 65 steps\n",
      "Epoch 1/30\n",
      "50/50 [==============================] - 115s 2s/step - loss: 0.9967 - accuracy: 0.5933 - val_loss: 0.6985 - val_accuracy: 0.7103\n",
      "Epoch 2/30\n",
      "50/50 [==============================] - 81s 2s/step - loss: 0.7202 - accuracy: 0.7000 - val_loss: 0.6890 - val_accuracy: 0.7009\n",
      "Epoch 3/30\n",
      "50/50 [==============================] - 82s 2s/step - loss: 0.6481 - accuracy: 0.7360 - val_loss: 0.6208 - val_accuracy: 0.7445\n",
      "Epoch 4/30\n",
      "50/50 [==============================] - 78s 2s/step - loss: 0.5788 - accuracy: 0.7547 - val_loss: 0.6948 - val_accuracy: 0.7134\n",
      "Epoch 5/30\n",
      "50/50 [==============================] - 77s 2s/step - loss: 0.5324 - accuracy: 0.7920 - val_loss: 0.6432 - val_accuracy: 0.7321\n",
      "Epoch 6/30\n",
      "50/50 [==============================] - 96s 2s/step - loss: 0.4560 - accuracy: 0.8240 - val_loss: 0.6291 - val_accuracy: 0.7632\n",
      "Epoch 7/30\n",
      "50/50 [==============================] - 98s 2s/step - loss: 0.4056 - accuracy: 0.8333 - val_loss: 0.4866 - val_accuracy: 0.8069\n",
      "Epoch 8/30\n",
      "50/50 [==============================] - 99s 2s/step - loss: 0.3955 - accuracy: 0.8413 - val_loss: 0.4795 - val_accuracy: 0.8100\n",
      "Epoch 9/30\n",
      "50/50 [==============================] - 97s 2s/step - loss: 0.3740 - accuracy: 0.8373 - val_loss: 0.6539 - val_accuracy: 0.7477\n",
      "Epoch 10/30\n",
      "50/50 [==============================] - 98s 2s/step - loss: 0.3275 - accuracy: 0.8707 - val_loss: 0.3948 - val_accuracy: 0.8193\n",
      "Epoch 11/30\n",
      "50/50 [==============================] - 99s 2s/step - loss: 0.3351 - accuracy: 0.8587 - val_loss: 0.4306 - val_accuracy: 0.8380\n",
      "Epoch 12/30\n",
      "50/50 [==============================] - 99s 2s/step - loss: 0.3279 - accuracy: 0.8533 - val_loss: 0.6292 - val_accuracy: 0.7695\n",
      "Epoch 13/30\n",
      "50/50 [==============================] - 97s 2s/step - loss: 0.2857 - accuracy: 0.8853 - val_loss: 0.6635 - val_accuracy: 0.7695\n",
      "Epoch 14/30\n",
      "50/50 [==============================] - 97s 2s/step - loss: 0.3188 - accuracy: 0.8733 - val_loss: 0.3906 - val_accuracy: 0.8505\n",
      "Epoch 15/30\n",
      "50/50 [==============================] - 97s 2s/step - loss: 0.2659 - accuracy: 0.8987 - val_loss: 0.5107 - val_accuracy: 0.8069\n",
      "Epoch 16/30\n",
      "50/50 [==============================] - 98s 2s/step - loss: 0.2650 - accuracy: 0.8920 - val_loss: 0.4744 - val_accuracy: 0.8349\n",
      "Epoch 17/30\n",
      "50/50 [==============================] - 97s 2s/step - loss: 0.2475 - accuracy: 0.8800 - val_loss: 0.5658 - val_accuracy: 0.7913\n",
      "Epoch 18/30\n",
      "50/50 [==============================] - 98s 2s/step - loss: 0.2665 - accuracy: 0.8907 - val_loss: 0.4664 - val_accuracy: 0.8349\n",
      "Epoch 19/30\n",
      "50/50 [==============================] - 98s 2s/step - loss: 0.2662 - accuracy: 0.8800 - val_loss: 0.4519 - val_accuracy: 0.8536\n",
      "Epoch 20/30\n",
      "50/50 [==============================] - 99s 2s/step - loss: 0.1984 - accuracy: 0.9133 - val_loss: 0.3922 - val_accuracy: 0.8598\n",
      "Epoch 21/30\n",
      "50/50 [==============================] - 96s 2s/step - loss: 0.2123 - accuracy: 0.9200 - val_loss: 0.3993 - val_accuracy: 0.8598\n",
      "Epoch 22/30\n",
      "50/50 [==============================] - 96s 2s/step - loss: 0.1802 - accuracy: 0.9280 - val_loss: 0.4879 - val_accuracy: 0.8287\n",
      "Epoch 23/30\n",
      "50/50 [==============================] - 97s 2s/step - loss: 0.1966 - accuracy: 0.9093 - val_loss: 0.4699 - val_accuracy: 0.8536\n",
      "Epoch 24/30\n",
      "50/50 [==============================] - 97s 2s/step - loss: 0.1949 - accuracy: 0.9240 - val_loss: 0.5773 - val_accuracy: 0.8349\n",
      "Epoch 25/30\n",
      "50/50 [==============================] - 97s 2s/step - loss: 0.1717 - accuracy: 0.9360 - val_loss: 0.5261 - val_accuracy: 0.8442\n",
      "Epoch 26/30\n",
      "50/50 [==============================] - 99s 2s/step - loss: 0.1435 - accuracy: 0.9360 - val_loss: 0.4846 - val_accuracy: 0.8287\n",
      "Epoch 27/30\n",
      "50/50 [==============================] - 94s 2s/step - loss: 0.1774 - accuracy: 0.9347 - val_loss: 0.4113 - val_accuracy: 0.8598\n",
      "Epoch 28/30\n",
      "50/50 [==============================] - 96s 2s/step - loss: 0.1706 - accuracy: 0.9387 - val_loss: 0.5732 - val_accuracy: 0.8349\n",
      "Epoch 29/30\n",
      "50/50 [==============================] - 97s 2s/step - loss: 0.1240 - accuracy: 0.9507 - val_loss: 0.4876 - val_accuracy: 0.8536\n",
      "Epoch 30/30\n",
      "50/50 [==============================] - 97s 2s/step - loss: 0.1349 - accuracy: 0.9493 - val_loss: 0.5366 - val_accuracy: 0.8318\n"
     ]
    }
   ],
   "source": [
    "history = cnn.fit(x = trainning_set,\n",
    "                  validation_data = test_set,\n",
    "                  epochs = 30)"
   ]
  },
  {
   "cell_type": "markdown",
   "metadata": {},
   "source": [
    "### Getting the Average accuracy among all the stages (epochs)"
   ]
  },
  {
   "cell_type": "code",
   "execution_count": 13,
   "metadata": {},
   "outputs": [
    {
     "name": "stdout",
     "output_type": "stream",
     "text": [
      "The Average Accuracy :  86.45  %\n"
     ]
    }
   ],
   "source": [
    "Avg_Acc = np.mean(history.history['accuracy'])\n",
    "print(\"The Average Accuracy : \", round(Avg_Acc * 100, 2),' %')"
   ]
  },
  {
   "cell_type": "markdown",
   "metadata": {},
   "source": [
    "### Plotting the Accuracy among all the epochs"
   ]
  },
  {
   "cell_type": "code",
   "execution_count": 14,
   "metadata": {
    "scrolled": true
   },
   "outputs": [
    {
     "data": {
      "image/png": "[encoded data removed]",
      "text/plain": [
       "<Figure size 432x288 with 1 Axes>"
      ]
     },
     "metadata": {
      "needs_background": "light"
     },
     "output_type": "display_data"
    }
   ],
   "source": [
    "import matplotlib.pyplot as plt\n",
    "plt.plot(history.history['accuracy'])\n",
    "plt.plot(history.history['val_accuracy'])\n",
    "plt.title('Wheat Impurities Model Accuracy. ')\n",
    "plt.xlabel('Per Epoch.')\n",
    "plt.ylabel('Accuracy')\n",
    "plt.legend(['Trainning', 'Testing'], loc='upper left')\n",
    "plt.show()"
   ]
  },
  {
   "cell_type": "markdown",
   "metadata": {
    "colab_type": "text",
    "id": "U3PZasO0006Z"
   },
   "source": [
    "##  Classification Report"
   ]
  },
  {
   "cell_type": "code",
   "execution_count": 15,
   "metadata": {},
   "outputs": [
    {
     "name": "stdout",
     "output_type": "stream",
     "text": [
      "Found 321 images belonging to 4 classes.\n"
     ]
    }
   ],
   "source": [
    "test_generator = ImageDataGenerator()\n",
    "test_data_generator = test_generator.flow_from_directory(\n",
    "    '/media/abanoublamie/5E76093A76091485/ssss/testing/wheat_rust/images/validation',\n",
    "     target_size=(64, 64),\n",
    "    batch_size=15,\n",
    "    shuffle=False)\n",
    "test_steps_per_epoch = np.math.ceil(test_data_generator.samples / test_data_generator.batch_size)\n",
    "\n",
    "predictions = cnn.predict_generator(test_data_generator, steps=test_steps_per_epoch)\n",
    "# Get most likely class\n",
    "predicted_classes = np.argmax(predictions, axis=1)"
   ]
  },
  {
   "cell_type": "code",
   "execution_count": 16,
   "metadata": {},
   "outputs": [
    {
     "name": "stdout",
     "output_type": "stream",
     "text": [
      "['Healthy Wheat', 'Leaf Rust', 'Stem Rust', 'Wild Oat']\n"
     ]
    }
   ],
   "source": [
    "true_classes = test_data_generator.classes\n",
    "class_labels = list(test_data_generator.class_indices.keys())  \n",
    "print(class_labels)"
   ]
  },
  {
   "cell_type": "code",
   "execution_count": 17,
   "metadata": {},
   "outputs": [
    {
     "name": "stdout",
     "output_type": "stream",
     "text": [
      "               precision    recall  f1-score   support\n",
      "\n",
      "Healthy Wheat       0.45      1.00      0.62       100\n",
      "    Leaf Rust       0.80      0.06      0.12        63\n",
      "    Stem Rust       0.50      0.03      0.06        58\n",
      "     Wild Oat       0.99      0.90      0.94       100\n",
      "\n",
      "     accuracy                           0.61       321\n",
      "    macro avg       0.69      0.50      0.44       321\n",
      " weighted avg       0.70      0.61      0.52       321\n",
      "\n"
     ]
    }
   ],
   "source": [
    "import sklearn.metrics as metrics\n",
    "report = metrics.classification_report(true_classes, predicted_classes, target_names=class_labels, zero_division=0)\n",
    "print(report)    "
   ]
  },
  {
   "cell_type": "markdown",
   "metadata": {},
   "source": [
    "<center><b>End of Notebook.</b></center>"
   ]
  },
  {
   "cell_type": "code",
   "execution_count": null,
   "metadata": {},
   "outputs": [],
   "source": []
  }
 ],
 "metadata": {
  "colab": {
   "collapsed_sections": [],
   "name": "convolutional_neural_network.ipynb",
   "provenance": [],
   "toc_visible": true
  },
  "kernelspec": {
   "display_name": "Python 3",
   "language": "python",
   "name": "python3"
  },
  "language_info": {
   "codemirror_mode": {
    "name": "ipython",
    "version": 3
   },
   "file_extension": ".py",
   "mimetype": "text/x-python",
   "name": "python",
   "nbconvert_exporter": "python",
   "pygments_lexer": "ipython3",
   "version": "3.7.9"
  }
 },
 "nbformat": 4,
 "nbformat_minor": 1
}
