{
 "cells": [
  {
   "cell_type": "markdown",
   "metadata": {
    "colab_type": "text",
    "id": "3DR-eO17geWu"
   },
   "source": [
    "<h1>Wheat & Rust Detection using Convolutional Neural Network.</h1>"
   ]
  },
  {
   "cell_type": "markdown",
   "metadata": {},
   "source": [
    "## *Problem Statement*:\n",
    "This model diffrentiates between Wheat Rust & Healthy Wheat using our collected dayaset of  <a href=\"https://www.kaggle.com/shadabhussain/cgiar-computer-vision-for-crop-disease1\">Wheat Rust Dataset</a> and Global wheat detection <a href=\"https://www.kaggle.com/c/global-wheat-detection/data\"> Wheat Dataset</a>.\n",
    "\n",
    "## *Authors*:\n",
    "<ul>\n",
    "    <li>Nour Bahaa</li>\n",
    "    <li>Mai Mahmoud</li>\n",
    "    <li>Ibrahim Fawzy</li>\n",
    "    <li>Abanoub George</li>\n",
    "</ul>\n",
    "\n",
    "## *Supervisors*:\n",
    "<ul>\n",
    "    <li>Prof. Khaled Hussien</li>\n",
    "    <li>Eng. Hager Sobeah</li>\n",
    "    <li>Eng. Nour el-huda Ashraf</li>\n",
    "</ul>\n",
    "\n"
   ]
  },
  {
   "cell_type": "markdown",
   "metadata": {
    "colab_type": "text",
    "id": "EMefrVPCg-60"
   },
   "source": [
    "### Importing the main libraries"
   ]
  },
  {
   "cell_type": "code",
   "execution_count": 1,
   "metadata": {
    "colab": {},
    "colab_type": "code",
    "id": "sCV30xyVhFbE",
    "scrolled": false
   },
   "outputs": [
    {
     "name": "stderr",
     "output_type": "stream",
     "text": [
      "Using TensorFlow backend.\n"
     ]
    }
   ],
   "source": [
    "import tensorflow as tf\n",
    "from keras.preprocessing.image import ImageDataGenerator\n",
    "import numpy as np\n",
    "\n",
    "train_images = \"/home/abanoublamie/Downloads/WheatLeafRust/train\"\n",
    "test_images = \"/home/abanoublamie/Downloads/WheatLeafRust/test\"\n",
    "single_pred = \"/media/abanoublamie/5E76093A76091485/ssss/testing/Wheat & Rust/prediction\""
   ]
  },
  {
   "cell_type": "markdown",
   "metadata": {
    "colab_type": "text",
    "id": "MvE-heJNo3GG"
   },
   "source": [
    "### Pre-processing on the Trainning set (*Image Augmentation*)\n",
    "We are applying some geometerical tranformation to move the pixels to prevent overfitting of the model (Zoom In, Zoom Out, Rotations). "
   ]
  },
  {
   "cell_type": "code",
   "execution_count": 2,
   "metadata": {
    "colab": {},
    "colab_type": "code",
    "id": "0koUcJMJpEBD"
   },
   "outputs": [
    {
     "name": "stdout",
     "output_type": "stream",
     "text": [
      "Found 601 images belonging to 2 classes.\n"
     ]
    }
   ],
   "source": [
    "train_datagenarator = ImageDataGenerator(rescale = 1./255,\n",
    "                                         shear_range = 0.2,\n",
    "                                         zoom_range = 0.2,\n",
    "                                         horizontal_flip = True)\n",
    "\n",
    "trainning_set = train_datagenarator.flow_from_directory( train_images,\n",
    "                                                         target_size = (64, 64),\n",
    "                                                         batch_size = 15,\n",
    "                                                         class_mode = 'binary')"
   ]
  },
  {
   "cell_type": "markdown",
   "metadata": {
    "colab_type": "text",
    "id": "mrCMmGw9pHys"
   },
   "source": [
    "### Pre-processing on the Test set"
   ]
  },
  {
   "cell_type": "code",
   "execution_count": 3,
   "metadata": {
    "colab": {},
    "colab_type": "code",
    "id": "SH4WzfOhpKc3"
   },
   "outputs": [
    {
     "name": "stdout",
     "output_type": "stream",
     "text": [
      "Found 129 images belonging to 2 classes.\n"
     ]
    }
   ],
   "source": [
    "test_datagenarator = ImageDataGenerator(rescale = 1./255)\n",
    "test_set = test_datagenarator.flow_from_directory(test_images,\n",
    "                                                   target_size = (64, 64),\n",
    "                                                   batch_size = 5,\n",
    "                                                   class_mode = 'binary')"
   ]
  },
  {
   "cell_type": "markdown",
   "metadata": {
    "colab_type": "text",
    "id": "ces1gXY2lmoX"
   },
   "source": [
    "### CNN init\n",
    "Intiating Our Convolutional Neural Network"
   ]
  },
  {
   "cell_type": "code",
   "execution_count": 4,
   "metadata": {
    "colab": {},
    "colab_type": "code",
    "id": "SAUt4UMPlhLS"
   },
   "outputs": [],
   "source": [
    "cnn = tf.keras.models.Sequential()"
   ]
  },
  {
   "cell_type": "markdown",
   "metadata": {
    "colab_type": "text",
    "id": "u5YJj_XMl5LF"
   },
   "source": [
    "###  Convolution Layer\n",
    "Feature Mapping (Applying filters), the activation function(ReLu) is responsible for performance enhancement because, it will output if positive, otherwise, it will output zero "
   ]
  },
  {
   "cell_type": "code",
   "execution_count": 5,
   "metadata": {
    "colab": {},
    "colab_type": "code",
    "id": "XPzPrMckl-hV"
   },
   "outputs": [],
   "source": [
    "cnn.add(tf.keras.layers.Conv2D(filters=32,\n",
    "                               kernel_size=3,\n",
    "                               activation='relu',\n",
    "                               input_shape=[64, 64, 3]))"
   ]
  },
  {
   "cell_type": "markdown",
   "metadata": {
    "colab_type": "text",
    "id": "tf87FpvxmNOJ"
   },
   "source": [
    "###  Pooling Layer (Max Pooling)\n",
    "Detect the features in any postition, background, light, texture and pattern"
   ]
  },
  {
   "cell_type": "code",
   "execution_count": 6,
   "metadata": {
    "colab": {},
    "colab_type": "code",
    "id": "ncpqPl69mOac"
   },
   "outputs": [],
   "source": [
    "cnn.add(tf.keras.layers.MaxPool2D(pool_size=2, strides=2))"
   ]
  },
  {
   "cell_type": "markdown",
   "metadata": {},
   "source": [
    "###  Dropout Layer\n",
    "Prevents the model from overfitting"
   ]
  },
  {
   "cell_type": "code",
   "execution_count": 7,
   "metadata": {},
   "outputs": [],
   "source": [
    "cnn.add(tf.keras.layers.Dropout(0.25))"
   ]
  },
  {
   "cell_type": "markdown",
   "metadata": {
    "colab_type": "text",
    "id": "xaTOgD8rm4mU"
   },
   "source": [
    "### Adding a second convolutional layer & poolin layer"
   ]
  },
  {
   "cell_type": "code",
   "execution_count": 8,
   "metadata": {
    "colab": {},
    "colab_type": "code",
    "id": "i_-FZjn_m8gk"
   },
   "outputs": [],
   "source": [
    "cnn.add(tf.keras.layers.Conv2D(filters=32,\n",
    "                               kernel_size=3,      # Kernal Size is the width and height of the 2D convolution window.\n",
    "\n",
    "                               activation='relu'))\n",
    "cnn.add(tf.keras.layers.MaxPool2D(pool_size=2, strides=2))"
   ]
  },
  {
   "cell_type": "markdown",
   "metadata": {
    "colab_type": "text",
    "id": "tmiEuvTunKfk"
   },
   "source": [
    "### Flattening\n",
    "Rotate the matrix to a column matrix for future use of the ANN"
   ]
  },
  {
   "cell_type": "code",
   "execution_count": 9,
   "metadata": {
    "colab": {},
    "colab_type": "code",
    "id": "6AZeOGCvnNZn"
   },
   "outputs": [],
   "source": [
    "cnn.add(tf.keras.layers.Flatten())"
   ]
  },
  {
   "cell_type": "markdown",
   "metadata": {
    "colab_type": "text",
    "id": "dAoSECOm203v"
   },
   "source": [
    "### Full Connection\n",
    "Matching the features with the classes to make a prediction. (units= Hidden Neurons)"
   ]
  },
  {
   "cell_type": "code",
   "execution_count": 10,
   "metadata": {
    "colab": {},
    "colab_type": "code",
    "id": "8GtmUlLd26Nq"
   },
   "outputs": [],
   "source": [
    "cnn.add(tf.keras.layers.Dense(units=128, activation='relu'))"
   ]
  },
  {
   "cell_type": "markdown",
   "metadata": {
    "colab_type": "text",
    "id": "yTldFvbX28Na"
   },
   "source": [
    "###  Output Layer"
   ]
  },
  {
   "cell_type": "code",
   "execution_count": 11,
   "metadata": {
    "colab": {},
    "colab_type": "code",
    "id": "1p_Zj1Mc3Ko_"
   },
   "outputs": [],
   "source": [
    "cnn.add(tf.keras.layers.Dense(units=1, activation='sigmoid'))"
   ]
  },
  {
   "cell_type": "markdown",
   "metadata": {
    "colab_type": "text",
    "id": "vfrFQACEnc6i"
   },
   "source": [
    "### Compiling the CNN\n",
    "We used Adam Optimizer to update network weights iterative based in training data."
   ]
  },
  {
   "cell_type": "code",
   "execution_count": 12,
   "metadata": {
    "colab": {},
    "colab_type": "code",
    "id": "NALksrNQpUlJ"
   },
   "outputs": [],
   "source": [
    "cnn.compile(optimizer = 'adam',\n",
    "            loss = 'binary_crossentropy',\n",
    "            metrics = ['accuracy'])"
   ]
  },
  {
   "cell_type": "markdown",
   "metadata": {},
   "source": [
    "### CNN Summary"
   ]
  },
  {
   "cell_type": "code",
   "execution_count": 13,
   "metadata": {},
   "outputs": [
    {
     "name": "stdout",
     "output_type": "stream",
     "text": [
      "Model: \"sequential\"\n",
      "_________________________________________________________________\n",
      "Layer (type)                 Output Shape              Param #   \n",
      "=================================================================\n",
      "conv2d (Conv2D)              (None, 62, 62, 32)        896       \n",
      "_________________________________________________________________\n",
      "max_pooling2d (MaxPooling2D) (None, 31, 31, 32)        0         \n",
      "_________________________________________________________________\n",
      "dropout (Dropout)            (None, 31, 31, 32)        0         \n",
      "_________________________________________________________________\n",
      "conv2d_1 (Conv2D)            (None, 29, 29, 32)        9248      \n",
      "_________________________________________________________________\n",
      "max_pooling2d_1 (MaxPooling2 (None, 14, 14, 32)        0         \n",
      "_________________________________________________________________\n",
      "flatten (Flatten)            (None, 6272)              0         \n",
      "_________________________________________________________________\n",
      "dense (Dense)                (None, 128)               802944    \n",
      "_________________________________________________________________\n",
      "dense_1 (Dense)              (None, 1)                 129       \n",
      "=================================================================\n",
      "Total params: 813,217\n",
      "Trainable params: 813,217\n",
      "Non-trainable params: 0\n",
      "_________________________________________________________________\n"
     ]
    }
   ],
   "source": [
    "cnn.summary()"
   ]
  },
  {
   "cell_type": "markdown",
   "metadata": {
    "colab_type": "text",
    "id": "ehS-v3MIpX2h"
   },
   "source": [
    "### Trainning the CNN on the Trainning set and evaluating it on the Test set"
   ]
  },
  {
   "cell_type": "code",
   "execution_count": 14,
   "metadata": {
    "colab": {},
    "colab_type": "code",
    "id": "XUj1W4PJptta"
   },
   "outputs": [
    {
     "name": "stdout",
     "output_type": "stream",
     "text": [
      "Train for 41 steps, validate for 26 steps\n",
      "Epoch 1/30\n",
      "41/41 [==============================] - 91s 2s/step - loss: 0.6273 - accuracy: 0.6373 - val_loss: 0.5849 - val_accuracy: 0.6357\n",
      "Epoch 2/30\n",
      "41/41 [==============================] - 80s 2s/step - loss: 0.3799 - accuracy: 0.8319 - val_loss: 0.3138 - val_accuracy: 0.9147\n",
      "Epoch 3/30\n",
      "41/41 [==============================] - 77s 2s/step - loss: 0.2618 - accuracy: 0.8985 - val_loss: 0.2484 - val_accuracy: 0.9225\n",
      "Epoch 4/30\n",
      "41/41 [==============================] - 70s 2s/step - loss: 0.2138 - accuracy: 0.9185 - val_loss: 0.2084 - val_accuracy: 0.9302\n",
      "Epoch 5/30\n",
      "41/41 [==============================] - 72s 2s/step - loss: 0.3108 - accuracy: 0.8719 - val_loss: 0.2273 - val_accuracy: 0.9457\n",
      "Epoch 6/30\n",
      "41/41 [==============================] - 74s 2s/step - loss: 0.2177 - accuracy: 0.9185 - val_loss: 0.2253 - val_accuracy: 0.9147\n",
      "Epoch 7/30\n",
      "41/41 [==============================] - 64s 2s/step - loss: 0.2733 - accuracy: 0.8968 - val_loss: 0.2593 - val_accuracy: 0.9147\n",
      "Epoch 8/30\n",
      "41/41 [==============================] - 59s 1s/step - loss: 0.1815 - accuracy: 0.9334 - val_loss: 0.1862 - val_accuracy: 0.9457\n",
      "Epoch 9/30\n",
      "41/41 [==============================] - 60s 1s/step - loss: 0.1427 - accuracy: 0.9484 - val_loss: 0.1354 - val_accuracy: 0.9535\n",
      "Epoch 10/30\n",
      "41/41 [==============================] - 60s 1s/step - loss: 0.2449 - accuracy: 0.9151 - val_loss: 0.1446 - val_accuracy: 0.9535\n",
      "Epoch 11/30\n",
      "41/41 [==============================] - 59s 1s/step - loss: 0.1303 - accuracy: 0.9517 - val_loss: 0.1628 - val_accuracy: 0.9457\n",
      "Epoch 12/30\n",
      "41/41 [==============================] - 57s 1s/step - loss: 0.1847 - accuracy: 0.9418 - val_loss: 0.2782 - val_accuracy: 0.8992\n",
      "Epoch 13/30\n",
      "41/41 [==============================] - 59s 1s/step - loss: 0.1257 - accuracy: 0.9501 - val_loss: 0.1364 - val_accuracy: 0.9535\n",
      "Epoch 14/30\n",
      "41/41 [==============================] - 59s 1s/step - loss: 0.1718 - accuracy: 0.9318 - val_loss: 0.1155 - val_accuracy: 0.9612\n",
      "Epoch 15/30\n",
      "41/41 [==============================] - 56s 1s/step - loss: 0.1183 - accuracy: 0.9551 - val_loss: 0.1154 - val_accuracy: 0.9690\n",
      "Epoch 16/30\n",
      "41/41 [==============================] - 64s 2s/step - loss: 0.1369 - accuracy: 0.9468 - val_loss: 0.1095 - val_accuracy: 0.9612\n",
      "Epoch 17/30\n",
      "41/41 [==============================] - 54s 1s/step - loss: 0.1011 - accuracy: 0.9651 - val_loss: 0.2273 - val_accuracy: 0.9302\n",
      "Epoch 18/30\n",
      "41/41 [==============================] - 54s 1s/step - loss: 0.1204 - accuracy: 0.9617 - val_loss: 0.1446 - val_accuracy: 0.9457\n",
      "Epoch 19/30\n",
      "41/41 [==============================] - 55s 1s/step - loss: 0.1132 - accuracy: 0.9584 - val_loss: 0.3251 - val_accuracy: 0.8760\n",
      "Epoch 20/30\n",
      "41/41 [==============================] - 56s 1s/step - loss: 0.1490 - accuracy: 0.9451 - val_loss: 0.1809 - val_accuracy: 0.9457\n",
      "Epoch 21/30\n",
      "41/41 [==============================] - 56s 1s/step - loss: 0.1486 - accuracy: 0.9501 - val_loss: 0.1612 - val_accuracy: 0.9380\n",
      "Epoch 22/30\n",
      "41/41 [==============================] - 57s 1s/step - loss: 0.1096 - accuracy: 0.9567 - val_loss: 0.3995 - val_accuracy: 0.8372\n",
      "Epoch 23/30\n",
      "41/41 [==============================] - 59s 1s/step - loss: 0.1035 - accuracy: 0.9634 - val_loss: 0.1409 - val_accuracy: 0.9535\n",
      "Epoch 24/30\n",
      "41/41 [==============================] - 60s 1s/step - loss: 0.0965 - accuracy: 0.9700 - val_loss: 0.1259 - val_accuracy: 0.9612\n",
      "Epoch 25/30\n",
      "41/41 [==============================] - 60s 1s/step - loss: 0.0917 - accuracy: 0.9784 - val_loss: 0.2016 - val_accuracy: 0.9380\n",
      "Epoch 26/30\n",
      "41/41 [==============================] - 61s 1s/step - loss: 0.0724 - accuracy: 0.9734 - val_loss: 0.3454 - val_accuracy: 0.8992\n",
      "Epoch 27/30\n",
      "41/41 [==============================] - 54s 1s/step - loss: 0.1759 - accuracy: 0.9468 - val_loss: 0.5228 - val_accuracy: 0.7984\n",
      "Epoch 28/30\n",
      "41/41 [==============================] - 56s 1s/step - loss: 0.1538 - accuracy: 0.9517 - val_loss: 0.1487 - val_accuracy: 0.9535\n",
      "Epoch 29/30\n",
      "41/41 [==============================] - 60s 1s/step - loss: 0.0762 - accuracy: 0.9800 - val_loss: 0.1229 - val_accuracy: 0.9535\n",
      "Epoch 30/30\n",
      "41/41 [==============================] - 59s 1s/step - loss: 0.0755 - accuracy: 0.9750 - val_loss: 0.1892 - val_accuracy: 0.9302\n"
     ]
    }
   ],
   "source": [
    "history = cnn.fit(x = trainning_set,\n",
    "                  validation_data = test_set,\n",
    "                  epochs = 30)"
   ]
  },
  {
   "cell_type": "markdown",
   "metadata": {},
   "source": [
    "### Getting the Average accuracy among all the stages (epochs)"
   ]
  },
  {
   "cell_type": "code",
   "execution_count": 15,
   "metadata": {},
   "outputs": [
    {
     "name": "stdout",
     "output_type": "stream",
     "text": [
      "The Average Accuracy :  93.08  %\n"
     ]
    }
   ],
   "source": [
    "Avg_Acc = np.mean(history.history['accuracy'])\n",
    "print(\"The Average Accuracy : \", round(Avg_Acc * 100, 2),' %')"
   ]
  },
  {
   "cell_type": "markdown",
   "metadata": {},
   "source": [
    "### Plotting the Accuracy among all the epochs"
   ]
  },
  {
   "cell_type": "code",
   "execution_count": 16,
   "metadata": {
    "scrolled": true
   },
   "outputs": [
    {
     "data": {
      "image/png": "[encoded data removed]",
      "text/plain": [
       "<Figure size 432x288 with 1 Axes>"
      ]
     },
     "metadata": {
      "needs_background": "light"
     },
     "output_type": "display_data"
    }
   ],
   "source": [
    "import matplotlib.pyplot as plt\n",
    "plt.plot(history.history['accuracy'])\n",
    "plt.plot(history.history['val_accuracy'])\n",
    "plt.title('Wheat & Rust Model Accuracy. ')\n",
    "plt.xlabel('Per Epoch.')\n",
    "plt.ylabel('Accuracy')\n",
    "plt.legend(['Trainning', 'Testing'], loc='upper left')\n",
    "plt.show()"
   ]
  },
  {
   "cell_type": "code",
   "execution_count": 17,
   "metadata": {},
   "outputs": [
    {
     "name": "stdout",
     "output_type": "stream",
     "text": [
      "Found 129 images belonging to 2 classes.\n",
      "['Healthy Wheat', 'Leaf Rust']\n"
     ]
    }
   ],
   "source": [
    "test_generator = ImageDataGenerator()\n",
    "test_data_generator = test_generator.flow_from_directory(\n",
    "    test_images, # Put your path here\n",
    "    target_size=(64, 64),\n",
    "    batch_size=15,\n",
    "    shuffle=False)\n",
    "\n",
    "true_classes = test_data_generator.classes\n",
    "class_labels = list(test_data_generator.class_indices.keys())  \n",
    "print(class_labels)"
   ]
  },
  {
   "cell_type": "markdown",
   "metadata": {},
   "source": [
    "<center><b>End of Notebook.</b></center>"
   ]
  }
 ],
 "metadata": {
  "colab": {
   "collapsed_sections": [],
   "name": "convolutional_neural_network.ipynb",
   "provenance": [],
   "toc_visible": true
  },
  "kernelspec": {
   "display_name": "Python 3",
   "language": "python",
   "name": "python3"
  },
  "language_info": {
   "codemirror_mode": {
    "name": "ipython",
    "version": 3
   },
   "file_extension": ".py",
   "mimetype": "text/x-python",
   "name": "python",
   "nbconvert_exporter": "python",
   "pygments_lexer": "ipython3",
   "version": "3.7.9"
  }
 },
 "nbformat": 4,
 "nbformat_minor": 1
}
