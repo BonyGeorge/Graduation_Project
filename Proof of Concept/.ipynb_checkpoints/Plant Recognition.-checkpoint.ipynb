{
 "cells": [
  {
   "cell_type": "markdown",
   "metadata": {
    "colab_type": "text",
    "id": "3DR-eO17geWu"
   },
   "source": [
    "# Plant Recognition using Convolutional Neural Network."
   ]
  },
  {
   "cell_type": "markdown",
   "metadata": {},
   "source": [
    "## *Problem Statement*:\n",
    "Recognition of whether the input image of the plant is rice or wheat.\n",
    "\n",
    "## *Authors*:\n",
    "<ul>\n",
    "    <li>Nour Bahaa</li>\n",
    "    <li>Mai Mahmoud</li>\n",
    "    <li>Ibrahim Fawzy</li>\n",
    "    <li>Abanoub George</li>\n",
    "</ul>\n",
    "\n",
    "## *Supervisors*:\n",
    "<ul>\n",
    "    <li>Prof. Khaled Hussien</li>\n",
    "    <li>Eng. Hager Sobeah</li>\n",
    "    <li>Eng. Nour Ashraf</li>\n",
    "</ul>\n",
    "\n"
   ]
  },
  {
   "cell_type": "markdown",
   "metadata": {
    "colab_type": "text",
    "id": "EMefrVPCg-60"
   },
   "source": [
    "### Importing main libraries"
   ]
  },
  {
   "cell_type": "code",
   "execution_count": 1,
   "metadata": {
    "colab": {},
    "colab_type": "code",
    "id": "sCV30xyVhFbE"
   },
   "outputs": [
    {
     "name": "stderr",
     "output_type": "stream",
     "text": [
      "Using TensorFlow backend.\n"
     ]
    }
   ],
   "source": [
    "import tensorflow as tf\n",
    "from keras.preprocessing.image import ImageDataGenerator"
   ]
  },
  {
   "cell_type": "markdown",
   "metadata": {
    "colab_type": "text",
    "id": "oxQxCBWyoGPE"
   },
   "source": [
    "## Part 1 - Data Preprocessing"
   ]
  },
  {
   "cell_type": "markdown",
   "metadata": {
    "colab_type": "text",
    "id": "MvE-heJNo3GG"
   },
   "source": [
    "### Preprocessing on Trainning set (*Image Augmentation*)\n",
    "We are applying some geometerical tranformation to move the pixel to prevent overfitting(Zoom In, Zoom Out, Rotations). "
   ]
  },
  {
   "cell_type": "code",
   "execution_count": 2,
   "metadata": {
    "colab": {},
    "colab_type": "code",
    "id": "0koUcJMJpEBD"
   },
   "outputs": [
    {
     "name": "stdout",
     "output_type": "stream",
     "text": [
      "Found 344 images belonging to 2 classes.\n"
     ]
    }
   ],
   "source": [
    "train_datagenarator = ImageDataGenerator(rescale = 1./255,\n",
    "                                   shear_range = 0.2,\n",
    "                                   zoom_range = 0.2,\n",
    "                                   horizontal_flip = True)\n",
    "\n",
    "training_set = train_datagenarator.flow_from_directory('dataset/trainning_set',\n",
    "                                                 target_size = (64, 64),\n",
    "                                                 batch_size = 32,\n",
    "                                                 class_mode = 'binary')"
   ]
  },
  {
   "cell_type": "markdown",
   "metadata": {
    "colab_type": "text",
    "id": "mrCMmGw9pHys"
   },
   "source": [
    "### Preprocessing the Test set"
   ]
  },
  {
   "cell_type": "code",
   "execution_count": 3,
   "metadata": {
    "colab": {},
    "colab_type": "code",
    "id": "SH4WzfOhpKc3"
   },
   "outputs": [
    {
     "name": "stdout",
     "output_type": "stream",
     "text": [
      "Found 21 images belonging to 2 classes.\n"
     ]
    }
   ],
   "source": [
    "test_datagen = ImageDataGenerator(rescale = 1./255)\n",
    "test_set = test_datagen.flow_from_directory('dataset/test_set',\n",
    "                                            target_size = (64, 64),\n",
    "                                            batch_size = 32,\n",
    "                                            class_mode = 'binary')"
   ]
  },
  {
   "cell_type": "markdown",
   "metadata": {
    "colab_type": "text",
    "id": "af8O4l90gk7B"
   },
   "source": [
    "## Part 2 - Building the CNN"
   ]
  },
  {
   "cell_type": "markdown",
   "metadata": {
    "colab_type": "text",
    "id": "ces1gXY2lmoX"
   },
   "source": [
    "### Initialising the CNN"
   ]
  },
  {
   "cell_type": "code",
   "execution_count": 4,
   "metadata": {
    "colab": {},
    "colab_type": "code",
    "id": "SAUt4UMPlhLS"
   },
   "outputs": [],
   "source": [
    "cnn = tf.keras.models.Sequential()"
   ]
  },
  {
   "cell_type": "markdown",
   "metadata": {
    "colab_type": "text",
    "id": "u5YJj_XMl5LF"
   },
   "source": [
    "### Step 1 - Convolution"
   ]
  },
  {
   "cell_type": "code",
   "execution_count": 5,
   "metadata": {
    "colab": {},
    "colab_type": "code",
    "id": "XPzPrMckl-hV"
   },
   "outputs": [],
   "source": [
    "cnn.add(tf.keras.layers.Conv2D(filters=32, kernel_size=3, activation='relu', input_shape=[64, 64, 3]))"
   ]
  },
  {
   "cell_type": "markdown",
   "metadata": {
    "colab_type": "text",
    "id": "tf87FpvxmNOJ"
   },
   "source": [
    "### Step 2 - Pooling"
   ]
  },
  {
   "cell_type": "code",
   "execution_count": 6,
   "metadata": {
    "colab": {},
    "colab_type": "code",
    "id": "ncpqPl69mOac"
   },
   "outputs": [],
   "source": [
    "cnn.add(tf.keras.layers.MaxPool2D(pool_size=2, strides=2))"
   ]
  },
  {
   "cell_type": "markdown",
   "metadata": {
    "colab_type": "text",
    "id": "xaTOgD8rm4mU"
   },
   "source": [
    "### Adding a second convolutional layer"
   ]
  },
  {
   "cell_type": "code",
   "execution_count": 7,
   "metadata": {
    "colab": {},
    "colab_type": "code",
    "id": "i_-FZjn_m8gk"
   },
   "outputs": [],
   "source": [
    "cnn.add(tf.keras.layers.Conv2D(filters=32, kernel_size=3, activation='relu'))\n",
    "cnn.add(tf.keras.layers.MaxPool2D(pool_size=2, strides=2))"
   ]
  },
  {
   "cell_type": "markdown",
   "metadata": {
    "colab_type": "text",
    "id": "tmiEuvTunKfk"
   },
   "source": [
    "### Step 3 - Flattening"
   ]
  },
  {
   "cell_type": "code",
   "execution_count": 8,
   "metadata": {
    "colab": {},
    "colab_type": "code",
    "id": "6AZeOGCvnNZn"
   },
   "outputs": [],
   "source": [
    "cnn.add(tf.keras.layers.Flatten())"
   ]
  },
  {
   "cell_type": "markdown",
   "metadata": {
    "colab_type": "text",
    "id": "dAoSECOm203v"
   },
   "source": [
    "### Step 4 - Full Connection"
   ]
  },
  {
   "cell_type": "code",
   "execution_count": 9,
   "metadata": {
    "colab": {},
    "colab_type": "code",
    "id": "8GtmUlLd26Nq"
   },
   "outputs": [],
   "source": [
    "cnn.add(tf.keras.layers.Dense(units=128, activation='relu'))"
   ]
  },
  {
   "cell_type": "markdown",
   "metadata": {
    "colab_type": "text",
    "id": "yTldFvbX28Na"
   },
   "source": [
    "### Step 5 - Output Layer"
   ]
  },
  {
   "cell_type": "code",
   "execution_count": 10,
   "metadata": {
    "colab": {},
    "colab_type": "code",
    "id": "1p_Zj1Mc3Ko_"
   },
   "outputs": [],
   "source": [
    "cnn.add(tf.keras.layers.Dense(units=1, activation='sigmoid'))"
   ]
  },
  {
   "cell_type": "markdown",
   "metadata": {
    "colab_type": "text",
    "id": "D6XkI90snSDl"
   },
   "source": [
    "## Part 3 - Training the CNN"
   ]
  },
  {
   "cell_type": "markdown",
   "metadata": {
    "colab_type": "text",
    "id": "vfrFQACEnc6i"
   },
   "source": [
    "### Compiling the CNN"
   ]
  },
  {
   "cell_type": "code",
   "execution_count": 11,
   "metadata": {
    "colab": {},
    "colab_type": "code",
    "id": "NALksrNQpUlJ"
   },
   "outputs": [],
   "source": [
    "cnn.compile(optimizer = 'adam', loss = 'binary_crossentropy', metrics = ['accuracy'])"
   ]
  },
  {
   "cell_type": "markdown",
   "metadata": {
    "colab_type": "text",
    "id": "ehS-v3MIpX2h"
   },
   "source": [
    "### Training the CNN on the Training set and evaluating it on the Test set"
   ]
  },
  {
   "cell_type": "code",
   "execution_count": 12,
   "metadata": {
    "colab": {},
    "colab_type": "code",
    "id": "XUj1W4PJptta"
   },
   "outputs": [
    {
     "name": "stdout",
     "output_type": "stream",
     "text": [
      "Train for 11 steps, validate for 1 steps\n",
      "Epoch 1/25\n",
      "11/11 [==============================] - 8s 705ms/step - loss: 0.6907 - accuracy: 0.5843 - val_loss: 0.4404 - val_accuracy: 0.9048\n",
      "Epoch 2/25\n",
      "11/11 [==============================] - 4s 351ms/step - loss: 0.5283 - accuracy: 0.7587 - val_loss: 0.3422 - val_accuracy: 0.8571\n",
      "Epoch 3/25\n",
      "11/11 [==============================] - 4s 371ms/step - loss: 0.5043 - accuracy: 0.7355 - val_loss: 0.4037 - val_accuracy: 0.8095\n",
      "Epoch 4/25\n",
      "11/11 [==============================] - 4s 340ms/step - loss: 0.4601 - accuracy: 0.7674 - val_loss: 0.3790 - val_accuracy: 0.8095\n",
      "Epoch 5/25\n",
      "11/11 [==============================] - 4s 354ms/step - loss: 0.3924 - accuracy: 0.8023 - val_loss: 0.5761 - val_accuracy: 0.7143\n",
      "Epoch 6/25\n",
      "11/11 [==============================] - 4s 363ms/step - loss: 0.3606 - accuracy: 0.8052 - val_loss: 0.4012 - val_accuracy: 0.8571\n",
      "Epoch 7/25\n",
      "11/11 [==============================] - 4s 346ms/step - loss: 0.3056 - accuracy: 0.8547 - val_loss: 0.4195 - val_accuracy: 0.8571\n",
      "Epoch 8/25\n",
      "11/11 [==============================] - 4s 349ms/step - loss: 0.2705 - accuracy: 0.8605 - val_loss: 0.5255 - val_accuracy: 0.8571\n",
      "Epoch 9/25\n",
      "11/11 [==============================] - 4s 385ms/step - loss: 0.2246 - accuracy: 0.8953 - val_loss: 0.1446 - val_accuracy: 1.0000\n",
      "Epoch 10/25\n",
      "11/11 [==============================] - 4s 348ms/step - loss: 0.2110 - accuracy: 0.9070 - val_loss: 0.8772 - val_accuracy: 0.8571\n",
      "Epoch 11/25\n",
      "11/11 [==============================] - 4s 353ms/step - loss: 0.1665 - accuracy: 0.9390 - val_loss: 0.4062 - val_accuracy: 0.9048\n",
      "Epoch 12/25\n",
      "11/11 [==============================] - 4s 349ms/step - loss: 0.1699 - accuracy: 0.9273 - val_loss: 0.8910 - val_accuracy: 0.8571\n",
      "Epoch 13/25\n",
      "11/11 [==============================] - 4s 382ms/step - loss: 0.1001 - accuracy: 0.9709 - val_loss: 0.5201 - val_accuracy: 0.9048\n",
      "Epoch 14/25\n",
      "11/11 [==============================] - 4s 333ms/step - loss: 0.0977 - accuracy: 0.9738 - val_loss: 1.1974 - val_accuracy: 0.8571\n",
      "Epoch 15/25\n",
      "11/11 [==============================] - 4s 344ms/step - loss: 0.0699 - accuracy: 0.9738 - val_loss: 1.7256 - val_accuracy: 0.7619\n",
      "Epoch 16/25\n",
      "11/11 [==============================] - 4s 335ms/step - loss: 0.0637 - accuracy: 0.9884 - val_loss: 0.7825 - val_accuracy: 0.8571\n",
      "Epoch 17/25\n",
      "11/11 [==============================] - 4s 350ms/step - loss: 0.0553 - accuracy: 0.9826 - val_loss: 0.9006 - val_accuracy: 0.9048\n",
      "Epoch 18/25\n",
      "11/11 [==============================] - 4s 356ms/step - loss: 0.0647 - accuracy: 0.9826 - val_loss: 0.6374 - val_accuracy: 0.9048\n",
      "Epoch 19/25\n",
      "11/11 [==============================] - 4s 345ms/step - loss: 0.0535 - accuracy: 0.9826 - val_loss: 1.5230 - val_accuracy: 0.8571\n",
      "Epoch 20/25\n",
      "11/11 [==============================] - 4s 356ms/step - loss: 0.0370 - accuracy: 0.9942 - val_loss: 1.5879 - val_accuracy: 0.8571\n",
      "Epoch 21/25\n",
      "11/11 [==============================] - 4s 356ms/step - loss: 0.0436 - accuracy: 0.9884 - val_loss: 1.2766 - val_accuracy: 0.8571\n",
      "Epoch 22/25\n",
      "11/11 [==============================] - 4s 331ms/step - loss: 0.0478 - accuracy: 0.9855 - val_loss: 1.3991 - val_accuracy: 0.8571\n",
      "Epoch 23/25\n",
      "11/11 [==============================] - 3s 290ms/step - loss: 0.0393 - accuracy: 0.9855 - val_loss: 0.4293 - val_accuracy: 0.8571\n",
      "Epoch 24/25\n",
      "11/11 [==============================] - 3s 266ms/step - loss: 0.0366 - accuracy: 0.9913 - val_loss: 0.5418 - val_accuracy: 0.9048\n",
      "Epoch 25/25\n",
      "11/11 [==============================] - 3s 275ms/step - loss: 0.0564 - accuracy: 0.9738 - val_loss: 0.4744 - val_accuracy: 0.8571\n"
     ]
    }
   ],
   "source": [
    "history = cnn.fit(x = training_set, validation_data = test_set, epochs = 25)"
   ]
  },
  {
   "cell_type": "code",
   "execution_count": 13,
   "metadata": {},
   "outputs": [
    {
     "name": "stdout",
     "output_type": "stream",
     "text": [
      "dict_keys(['loss', 'accuracy', 'val_loss', 'val_accuracy'])\n"
     ]
    }
   ],
   "source": [
    "print(history.history.keys())"
   ]
  },
  {
   "cell_type": "markdown",
   "metadata": {},
   "source": [
    "### Printing the Accuracy"
   ]
  },
  {
   "cell_type": "code",
   "execution_count": 14,
   "metadata": {
    "scrolled": true
   },
   "outputs": [
    {
     "data": {
      "text/plain": [
       "<Figure size 640x480 with 1 Axes>"
      ]
     },
     "metadata": {},
     "output_type": "display_data"
    }
   ],
   "source": [
    "import matplotlib.pyplot as plt\n",
    "plt.plot(history.history['accuracy'])\n",
    "plt.plot(history.history['val_accuracy'])\n",
    "plt.title('Plant Recognition Model Accuracy. ')\n",
    "plt.xlabel('Per Epoch.')\n",
    "plt.ylabel('Accuracy')\n",
    "plt.legend(['Tainning', 'Testing'], loc='upper left')\n",
    "plt.show()"
   ]
  },
  {
   "cell_type": "markdown",
   "metadata": {
    "colab_type": "text",
    "id": "U3PZasO0006Z"
   },
   "source": [
    "## Part 4 - Making a single prediction"
   ]
  },
  {
   "cell_type": "code",
   "execution_count": 15,
   "metadata": {
    "colab": {},
    "colab_type": "code",
    "id": "gsSiWEJY1BPB"
   },
   "outputs": [],
   "source": [
    "import numpy as np\n",
    "from keras.preprocessing import image\n",
    "test_image = image.load_img('dataset/single_prediction/wheat_or_rice_1.jpg', target_size = (64, 64))\n",
    "test_image = image.img_to_array(test_image)\n",
    "test_image = np.expand_dims(test_image, axis = 0)\n",
    "result = cnn.predict(test_image)\n",
    "if result[0][0] == 1:\n",
    "  prediction = 'Wheat Plant.'\n",
    "else:\n",
    "  prediction = 'Rice Plant.'"
   ]
  },
  {
   "cell_type": "code",
   "execution_count": 16,
   "metadata": {
    "colab": {},
    "colab_type": "code",
    "id": "ED9KB3I54c1i"
   },
   "outputs": [
    {
     "name": "stdout",
     "output_type": "stream",
     "text": [
      "Rice Plant.\n"
     ]
    }
   ],
   "source": [
    "print(prediction)"
   ]
  }
 ],
 "metadata": {
  "colab": {
   "collapsed_sections": [],
   "name": "convolutional_neural_network.ipynb",
   "provenance": [],
   "toc_visible": true
  },
  "kernelspec": {
   "display_name": "Python 3",
   "language": "python",
   "name": "python3"
  },
  "language_info": {
   "codemirror_mode": {
    "name": "ipython",
    "version": 3
   },
   "file_extension": ".py",
   "mimetype": "text/x-python",
   "name": "python",
   "nbconvert_exporter": "python",
   "pygments_lexer": "ipython3",
   "version": "3.7.3"
  }
 },
 "nbformat": 4,
 "nbformat_minor": 1
}
