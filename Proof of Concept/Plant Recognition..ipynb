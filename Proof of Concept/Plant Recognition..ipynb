{
 "cells": [
  {
   "cell_type": "markdown",
   "metadata": {
    "colab_type": "text",
    "id": "3DR-eO17geWu"
   },
   "source": [
    "<h1>Plant Recognition using Convolutional Neural Network.</h1>"
   ]
  },
  {
   "cell_type": "markdown",
   "metadata": {},
   "source": [
    "## *Problem Statement*:\n",
    "Recognition of whether the input image of the plant is rice or wheat.\n",
    "\n",
    "## *Authors*:\n",
    "<ul>\n",
    "    <li>Nour Bahaa</li>\n",
    "    <li>Mai Mahmoud</li>\n",
    "    <li>Ibrahim Fawzy</li>\n",
    "    <li>Abanoub George</li>\n",
    "</ul>\n",
    "\n",
    "## *Supervisors*:\n",
    "<ul>\n",
    "    <li>Prof. Khaled Hussien</li>\n",
    "    <li>Eng. Hager Sobeah</li>\n",
    "    <li>Eng. Nour el-huda Ashraf</li>\n",
    "</ul>\n",
    "\n"
   ]
  },
  {
   "cell_type": "markdown",
   "metadata": {
    "colab_type": "text",
    "id": "EMefrVPCg-60"
   },
   "source": [
    "### Importing the main libraries"
   ]
  },
  {
   "cell_type": "code",
   "execution_count": 10,
   "metadata": {
    "colab": {},
    "colab_type": "code",
    "id": "sCV30xyVhFbE",
    "scrolled": false
   },
   "outputs": [],
   "source": [
    "import tensorflow as tf\n",
    "from keras.preprocessing.image import ImageDataGenerator\n",
    "import numpy as np\n",
    "import seaborn as sns"
   ]
  },
  {
   "cell_type": "markdown",
   "metadata": {
    "colab_type": "text",
    "id": "MvE-heJNo3GG"
   },
   "source": [
    "### Pre-processing on the Trainning set (*Image Augmentation*)\n",
    "We are applying some geometerical tranformation to move the pixels to prevent overfitting of the model (Zoom In, Zoom Out, Rotations). "
   ]
  },
  {
   "cell_type": "code",
   "execution_count": 11,
   "metadata": {
    "colab": {},
    "colab_type": "code",
    "id": "0koUcJMJpEBD"
   },
   "outputs": [
    {
     "name": "stdout",
     "output_type": "stream",
     "text": [
      "Found 252 images belonging to 2 classes.\n"
     ]
    }
   ],
   "source": [
    "train_datagenarator = ImageDataGenerator(rescale = 1./255,\n",
    "                                         shear_range = 0.2,\n",
    "                                         zoom_range = 0.2,\n",
    "                                         horizontal_flip = True)\n",
    "\n",
    "trainning_set = train_datagenarator.flow_from_directory('dataset/trainning_set',\n",
    "                                                         target_size = (64, 64),\n",
    "                                                         batch_size = 15,\n",
    "                                                         class_mode = 'binary')"
   ]
  },
  {
   "cell_type": "markdown",
   "metadata": {
    "colab_type": "text",
    "id": "mrCMmGw9pHys"
   },
   "source": [
    "### Pre-processing on the Test set"
   ]
  },
  {
   "cell_type": "code",
   "execution_count": 12,
   "metadata": {
    "colab": {},
    "colab_type": "code",
    "id": "SH4WzfOhpKc3"
   },
   "outputs": [
    {
     "name": "stdout",
     "output_type": "stream",
     "text": [
      "Found 113 images belonging to 2 classes.\n"
     ]
    }
   ],
   "source": [
    "test_datagenarator = ImageDataGenerator(rescale = 1./255)\n",
    "test_set = test_datagenarator.flow_from_directory('dataset/test_set',\n",
    "                                                   target_size = (64, 64),\n",
    "                                                   batch_size = 5,\n",
    "                                                   class_mode = 'binary')"
   ]
  },
  {
   "cell_type": "code",
   "execution_count": null,
   "metadata": {},
   "outputs": [],
   "source": []
  },
  {
   "cell_type": "markdown",
   "metadata": {
    "colab_type": "text",
    "id": "ces1gXY2lmoX"
   },
   "source": [
    "### CNN init\n",
    "Intiating Our Convolutional Neural Network"
   ]
  },
  {
   "cell_type": "code",
   "execution_count": 13,
   "metadata": {
    "colab": {},
    "colab_type": "code",
    "id": "SAUt4UMPlhLS"
   },
   "outputs": [],
   "source": [
    "cnn = tf.keras.models.Sequential()"
   ]
  },
  {
   "cell_type": "markdown",
   "metadata": {
    "colab_type": "text",
    "id": "u5YJj_XMl5LF"
   },
   "source": [
    "###  Convolution Layer\n",
    "Feature Mapping (Applying filters), the activation function(ReLu) is responsible for performance enhancement because, it will output if positive, otherwise, it will output zero "
   ]
  },
  {
   "cell_type": "code",
   "execution_count": 14,
   "metadata": {
    "colab": {},
    "colab_type": "code",
    "id": "XPzPrMckl-hV"
   },
   "outputs": [],
   "source": [
    "cnn.add(tf.keras.layers.Conv2D(filters=32,\n",
    "                               kernel_size=3,\n",
    "                               activation='relu',\n",
    "                               input_shape=[64, 64, 3]))"
   ]
  },
  {
   "cell_type": "markdown",
   "metadata": {
    "colab_type": "text",
    "id": "tf87FpvxmNOJ"
   },
   "source": [
    "###  Pooling Layer (Max Pooling)\n",
    "Detect the features in any postition, background, light, texture and pattern"
   ]
  },
  {
   "cell_type": "code",
   "execution_count": 15,
   "metadata": {
    "colab": {},
    "colab_type": "code",
    "id": "ncpqPl69mOac"
   },
   "outputs": [],
   "source": [
    "cnn.add(tf.keras.layers.MaxPool2D(pool_size=2, strides=2))"
   ]
  },
  {
   "cell_type": "markdown",
   "metadata": {
    "colab_type": "text",
    "id": "xaTOgD8rm4mU"
   },
   "source": [
    "### Adding a second convolutional layer & poolin layer"
   ]
  },
  {
   "cell_type": "code",
   "execution_count": 16,
   "metadata": {
    "colab": {},
    "colab_type": "code",
    "id": "i_-FZjn_m8gk"
   },
   "outputs": [],
   "source": [
    "cnn.add(tf.keras.layers.Conv2D(filters=32,\n",
    "                               kernel_size=3,      # Kernal Size is the width and height of the 2D convolution window.\n",
    "\n",
    "                               activation='relu'))\n",
    "cnn.add(tf.keras.layers.MaxPool2D(pool_size=2, strides=2))"
   ]
  },
  {
   "cell_type": "markdown",
   "metadata": {
    "colab_type": "text",
    "id": "tmiEuvTunKfk"
   },
   "source": [
    "### Flattening\n",
    "Rotate the matrix to a column matrix for future use of the ANN"
   ]
  },
  {
   "cell_type": "code",
   "execution_count": 17,
   "metadata": {
    "colab": {},
    "colab_type": "code",
    "id": "6AZeOGCvnNZn"
   },
   "outputs": [],
   "source": [
    "cnn.add(tf.keras.layers.Flatten())"
   ]
  },
  {
   "cell_type": "markdown",
   "metadata": {
    "colab_type": "text",
    "id": "dAoSECOm203v"
   },
   "source": [
    "### Full Connection\n",
    "Matching the features with the classes to make a prediction. (units= Hidden Neurons)"
   ]
  },
  {
   "cell_type": "code",
   "execution_count": 18,
   "metadata": {
    "colab": {},
    "colab_type": "code",
    "id": "8GtmUlLd26Nq"
   },
   "outputs": [],
   "source": [
    "cnn.add(tf.keras.layers.Dense(units=128, activation='relu'))"
   ]
  },
  {
   "cell_type": "markdown",
   "metadata": {
    "colab_type": "text",
    "id": "yTldFvbX28Na"
   },
   "source": [
    "###  Output Layer"
   ]
  },
  {
   "cell_type": "code",
   "execution_count": 19,
   "metadata": {
    "colab": {},
    "colab_type": "code",
    "id": "1p_Zj1Mc3Ko_"
   },
   "outputs": [],
   "source": [
    "cnn.add(tf.keras.layers.Dense(units=1, activation='sigmoid'))"
   ]
  },
  {
   "cell_type": "markdown",
   "metadata": {
    "colab_type": "text",
    "id": "vfrFQACEnc6i"
   },
   "source": [
    "### Compiling the CNN\n",
    "We used Adam Optimizer to update network weights iterative based in training data."
   ]
  },
  {
   "cell_type": "code",
   "execution_count": 20,
   "metadata": {
    "colab": {},
    "colab_type": "code",
    "id": "NALksrNQpUlJ"
   },
   "outputs": [],
   "source": [
    "cnn.compile(optimizer = 'adam',\n",
    "            loss = 'binary_crossentropy',\n",
    "            metrics = ['accuracy'])"
   ]
  },
  {
   "cell_type": "markdown",
   "metadata": {
    "colab_type": "text",
    "id": "ehS-v3MIpX2h"
   },
   "source": [
    "### Trainning the CNN on the Trainning set and evaluating it on the Test set"
   ]
  },
  {
   "cell_type": "code",
   "execution_count": 21,
   "metadata": {
    "colab": {},
    "colab_type": "code",
    "id": "XUj1W4PJptta"
   },
   "outputs": [
    {
     "name": "stdout",
     "output_type": "stream",
     "text": [
      "Epoch 1/10\n",
<<<<<<< HEAD
<<<<<<< Updated upstream
      "17/17 [==============================] - 3s 152ms/step - loss: 0.7376 - accuracy: 0.4722 - val_loss: 0.6948 - val_accuracy: 0.4602\n",
      "Epoch 2/10\n",
      "17/17 [==============================] - 3s 172ms/step - loss: 0.6675 - accuracy: 0.6071 - val_loss: 0.6203 - val_accuracy: 0.6372\n",
      "Epoch 3/10\n",
      "17/17 [==============================] - 3s 149ms/step - loss: 0.4846 - accuracy: 0.7976 - val_loss: 0.7245 - val_accuracy: 0.5929\n",
      "Epoch 4/10\n",
      "17/17 [==============================] - 2s 142ms/step - loss: 0.3918 - accuracy: 0.8651 - val_loss: 0.7174 - val_accuracy: 0.6814\n",
      "Epoch 5/10\n",
      "17/17 [==============================] - 2s 134ms/step - loss: 0.3558 - accuracy: 0.8611 - val_loss: 0.7059 - val_accuracy: 0.6814\n",
      "Epoch 6/10\n",
      "17/17 [==============================] - 2s 145ms/step - loss: 0.2629 - accuracy: 0.9087 - val_loss: 0.7359 - val_accuracy: 0.7080\n",
      "Epoch 7/10\n",
      "17/17 [==============================] - 2s 133ms/step - loss: 0.2535 - accuracy: 0.9087 - val_loss: 0.5494 - val_accuracy: 0.7788\n",
      "Epoch 8/10\n",
      "17/17 [==============================] - 2s 133ms/step - loss: 0.2162 - accuracy: 0.8810 - val_loss: 0.6074 - val_accuracy: 0.7522\n",
      "Epoch 9/10\n",
      "17/17 [==============================] - 3s 154ms/step - loss: 0.2159 - accuracy: 0.8849 - val_loss: 0.7785 - val_accuracy: 0.7434\n",
      "Epoch 10/10\n",
      "17/17 [==============================] - 2s 143ms/step - loss: 0.1526 - accuracy: 0.9524 - val_loss: 0.5550 - val_accuracy: 0.7522\n"
=======
      "17/17 [==============================] - 3s 150ms/step - loss: 0.6478 - accuracy: 0.6270 - val_loss: 0.6311 - val_accuracy: 0.5752\n",
      "Epoch 2/10\n",
      "17/17 [==============================] - 2s 146ms/step - loss: 0.4335 - accuracy: 0.8135 - val_loss: 0.9333 - val_accuracy: 0.6814\n",
      "Epoch 3/10\n",
      "17/17 [==============================] - 2s 142ms/step - loss: 0.3476 - accuracy: 0.8492 - val_loss: 0.8088 - val_accuracy: 0.6814\n",
      "Epoch 4/10\n",
      "17/17 [==============================] - 2s 140ms/step - loss: 0.3223 - accuracy: 0.8452 - val_loss: 0.6344 - val_accuracy: 0.7168\n",
      "Epoch 5/10\n",
      "17/17 [==============================] - 2s 140ms/step - loss: 0.2718 - accuracy: 0.8770 - val_loss: 0.8548 - val_accuracy: 0.6814\n",
      "Epoch 6/10\n",
      "17/17 [==============================] - 2s 140ms/step - loss: 0.2162 - accuracy: 0.9048 - val_loss: 0.6390 - val_accuracy: 0.7611\n",
      "Epoch 7/10\n",
      "17/17 [==============================] - 3s 155ms/step - loss: 0.1761 - accuracy: 0.9325 - val_loss: 0.8529 - val_accuracy: 0.6903\n",
      "Epoch 8/10\n",
      "17/17 [==============================] - 2s 141ms/step - loss: 0.1584 - accuracy: 0.9405 - val_loss: 0.5974 - val_accuracy: 0.7876\n",
      "Epoch 9/10\n",
      "17/17 [==============================] - 2s 139ms/step - loss: 0.0984 - accuracy: 0.9603 - val_loss: 0.6128 - val_accuracy: 0.7965\n",
      "Epoch 10/10\n",
      "17/17 [==============================] - 2s 141ms/step - loss: 0.1296 - accuracy: 0.9484 - val_loss: 0.8222 - val_accuracy: 0.7611\n"
>>>>>>> Stashed changes
=======
      "17/17 [==============================] - 9s 542ms/step - loss: 0.7378 - accuracy: 0.5794 - val_loss: 0.6431 - val_accuracy: 0.6283\n",
      "Epoch 2/10\n",
      "17/17 [==============================] - 4s 236ms/step - loss: 0.5770 - accuracy: 0.7302 - val_loss: 0.6085 - val_accuracy: 0.6283\n",
      "Epoch 3/10\n",
      "17/17 [==============================] - 4s 231ms/step - loss: 0.5297 - accuracy: 0.6865 - val_loss: 0.7170 - val_accuracy: 0.6460\n",
      "Epoch 4/10\n",
      "17/17 [==============================] - 4s 231ms/step - loss: 0.4092 - accuracy: 0.8532 - val_loss: 0.6765 - val_accuracy: 0.6283\n",
      "Epoch 5/10\n",
      "17/17 [==============================] - 4s 208ms/step - loss: 0.3395 - accuracy: 0.8532 - val_loss: 0.7293 - val_accuracy: 0.6726\n",
      "Epoch 6/10\n",
      "17/17 [==============================] - 3s 198ms/step - loss: 0.2887 - accuracy: 0.8730 - val_loss: 0.6994 - val_accuracy: 0.6991\n",
      "Epoch 7/10\n",
      "17/17 [==============================] - 4s 214ms/step - loss: 0.2622 - accuracy: 0.8889 - val_loss: 0.7548 - val_accuracy: 0.6814\n",
      "Epoch 8/10\n",
      "17/17 [==============================] - 4s 218ms/step - loss: 0.2134 - accuracy: 0.9087 - val_loss: 0.7098 - val_accuracy: 0.6726\n",
      "Epoch 9/10\n",
      "17/17 [==============================] - 4s 220ms/step - loss: 0.1744 - accuracy: 0.9167 - val_loss: 0.7650 - val_accuracy: 0.6991\n",
      "Epoch 10/10\n",
      "17/17 [==============================] - 4s 249ms/step - loss: 0.1699 - accuracy: 0.9286 - val_loss: 0.8678 - val_accuracy: 0.7168\n"
>>>>>>> 396c1060613a8cac2ce73ff522621fd03b38343c
     ]
    }
   ],
   "source": [
    "history = cnn.fit(x = trainning_set,\n",
    "                  validation_data = test_set,\n",
    "                  epochs = 10)"
   ]
  },
  {
   "cell_type": "markdown",
   "metadata": {},
   "source": [
    "### Getting the Average accuracy among all the stages (epochs)"
   ]
  },
  {
   "cell_type": "code",
   "execution_count": 22,
   "metadata": {},
   "outputs": [
    {
     "name": "stdout",
     "output_type": "stream",
     "text": [
<<<<<<< HEAD
<<<<<<< Updated upstream
      "The Average Accuracy :  81.39  %\n"
=======
      "86.98  %\n"
>>>>>>> Stashed changes
=======
      "The Average Accuracy :  82.18  %\n"
>>>>>>> 396c1060613a8cac2ce73ff522621fd03b38343c
     ]
    }
   ],
   "source": [
    "Avg_Acc = np.mean(history.history['accuracy'])\n",
    "print(\"The Average Accuracy : \", round(Avg_Acc * 100, 2),' %')"
   ]
  },
  {
   "cell_type": "markdown",
   "metadata": {},
   "source": [
    "### Plotting the Accuracy among all the epochs"
   ]
  },
  {
   "cell_type": "code",
   "execution_count": 23,
   "metadata": {
    "scrolled": true
   },
   "outputs": [
    {
     "data": {
<<<<<<< HEAD
<<<<<<< Updated upstream
      "image/png": "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\n",
      "text/plain": [
       "<Figure size 432x288 with 1 Axes>"
      ]
     },
     "metadata": {
      "needs_background": "light"
     },
     "output_type": "display_data"
    },
    {
     "data": {
      "image/png": "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\n",
=======
      "image/png": "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\n",
>>>>>>> Stashed changes
=======
      "image/png": "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\n",
>>>>>>> 396c1060613a8cac2ce73ff522621fd03b38343c
      "text/plain": [
       "<Figure size 432x288 with 1 Axes>"
      ]
     },
     "metadata": {
      "needs_background": "light"
     },
     "output_type": "display_data"
    }
   ],
   "source": [
    "import matplotlib.pyplot as plt\n",
    "plt.plot(history.history['accuracy']) \n",
    "plt.plot(history.history['val_accuracy'])\n",
    "plt.title('Plant Recognition Model Accuracy. ')\n",
    "plt.xlabel('Per Epoch.')\n",
    "plt.ylabel('Accuracy')\n",
    "plt.legend(['Trainning', 'Testing'], loc='upper left')\n",
    "plt.show()\n",
    "\n",
    "\n",
    "plt.plot(history.history['loss'])\n",
    "plt.plot(history.history['val_loss'])\n",
    "plt.title('Plant Recognition Model Loss. ')\n",
    "plt.ylabel('Loss')\n",
    "plt.xlabel('Per Epoch')\n",
    "plt.legend(['Trainning', 'Validation'], loc='upper left')\n",
    "plt.show()\n"
   ]
  },
  {
   "cell_type": "markdown",
   "metadata": {
    "colab_type": "text",
    "id": "U3PZasO0006Z"
   },
   "source": [
    "##  Making a prediction"
   ]
  },
  {
   "cell_type": "code",
<<<<<<< HEAD
   "execution_count": 17,
=======
   "execution_count": 24,
>>>>>>> 396c1060613a8cac2ce73ff522621fd03b38343c
   "metadata": {
    "colab": {},
    "colab_type": "code",
    "id": "gsSiWEJY1BPB"
   },
   "outputs": [],
   "source": [
    "from keras.preprocessing import image\n",
    "test_image = image.load_img('dataset/single_prediction/wheat_or_rice_1.jpg', target_size = (64, 64))\n",
    "test_image = image.img_to_array(test_image)\n",
    "test_image = np.expand_dims(test_image, axis = 0)\n",
    "result = cnn.predict(test_image)\n",
    "if result[0][0] == 1:\n",
    "  prediction = 'Wheat Plant.'\n",
    "else:\n",
    "  prediction = 'Rice Plant.'"
   ]
  },
  {
   "cell_type": "code",
<<<<<<< HEAD
   "execution_count": 18,
=======
   "execution_count": 25,
>>>>>>> 396c1060613a8cac2ce73ff522621fd03b38343c
   "metadata": {
    "colab": {},
    "colab_type": "code",
    "id": "ED9KB3I54c1i"
   },
   "outputs": [
    {
     "name": "stdout",
     "output_type": "stream",
     "text": [
      "Rice Plant.\n"
     ]
    }
   ],
   "source": [
    "print(prediction)"
   ]
  },
  {
   "cell_type": "markdown",
   "metadata": {},
   "source": [
    "<center><b>End of Notebook.</b></center>"
   ]
  },
  {
   "cell_type": "code",
   "execution_count": null,
   "metadata": {},
   "outputs": [],
   "source": []
  }
 ],
 "metadata": {
  "colab": {
   "collapsed_sections": [],
   "name": "convolutional_neural_network.ipynb",
   "provenance": [],
   "toc_visible": true
  },
  "kernelspec": {
   "display_name": "Python 3",
   "language": "python",
   "name": "python3"
  },
  "language_info": {
   "codemirror_mode": {
    "name": "ipython",
    "version": 3
   },
   "file_extension": ".py",
   "mimetype": "text/x-python",
   "name": "python",
   "nbconvert_exporter": "python",
   "pygments_lexer": "ipython3",
   "version": "3.8.3"
  }
 },
 "nbformat": 4,
 "nbformat_minor": 1
}
