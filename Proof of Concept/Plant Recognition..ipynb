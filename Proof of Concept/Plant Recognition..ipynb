{
 "cells": [
  {
   "cell_type": "markdown",
   "metadata": {
    "colab_type": "text",
    "id": "3DR-eO17geWu"
   },
   "source": [
    "# Plant Recognition using Convolutional Neural Network."
   ]
  },
  {
   "cell_type": "markdown",
   "metadata": {},
   "source": [
    "## *Problem Statement*:\n",
    "Recognition of whether the input image of the plant is rice or wheat.\n",
    "\n",
    "## *Authors*:\n",
    "<ul>\n",
    "    <li>Nour Bahaa</li>\n",
    "    <li>Mai Mahmoud</li>\n",
    "    <li>Ibrahim Fawzy</li>\n",
    "    <li>Abanoub George</li>\n",
    "</ul>\n",
    "\n",
    "## *Supervisors*:\n",
    "<ul>\n",
    "    <li>Prof. Khaled Hussien</li>\n",
    "    <li>Eng. Hager Sobeah</li>\n",
    "    <li>Eng. Nour Ashraf</li>\n",
    "</ul>\n",
    "\n"
   ]
  },
  {
   "cell_type": "markdown",
   "metadata": {
    "colab_type": "text",
    "id": "EMefrVPCg-60"
   },
   "source": [
    "### Importing main libraries"
   ]
  },
  {
   "cell_type": "code",
   "execution_count": 1,
   "metadata": {
    "colab": {},
    "colab_type": "code",
    "id": "sCV30xyVhFbE"
   },
   "outputs": [
    {
     "name": "stderr",
     "output_type": "stream",
     "text": [
      "Using TensorFlow backend.\n"
     ]
    }
   ],
   "source": [
    "import tensorflow as tf\n",
    "from keras.preprocessing.image import ImageDataGenerator\n",
    "import numpy as np"
   ]
  },
  {
   "cell_type": "markdown",
   "metadata": {
    "colab_type": "text",
    "id": "MvE-heJNo3GG"
   },
   "source": [
    "### Preprocessing on Trainning set (*Image Augmentation*)\n",
    "We are applying some geometerical tranformation to move the pixel to prevent overfitting(Zoom In, Zoom Out, Rotations). "
   ]
  },
  {
   "cell_type": "code",
   "execution_count": 2,
   "metadata": {
    "colab": {},
    "colab_type": "code",
    "id": "0koUcJMJpEBD"
   },
   "outputs": [
    {
     "name": "stdout",
     "output_type": "stream",
     "text": [
      "Found 252 images belonging to 2 classes.\n"
     ]
    }
   ],
   "source": [
    "train_datagenarator = ImageDataGenerator(rescale = 1./255,\n",
    "                                         shear_range = 0.2,\n",
    "                                         zoom_range = 0.2,\n",
    "                                         horizontal_flip = True)\n",
    "\n",
    "trainning_set = train_datagenarator.flow_from_directory('dataset/trainning_set',\n",
    "                                                 target_size = (64, 64),\n",
    "                                                 batch_size = 15,\n",
    "                                                 class_mode = 'binary')"
   ]
  },
  {
   "cell_type": "markdown",
   "metadata": {
    "colab_type": "text",
    "id": "mrCMmGw9pHys"
   },
   "source": [
    "### Preprocessing the Test set"
   ]
  },
  {
   "cell_type": "code",
   "execution_count": 3,
   "metadata": {
    "colab": {},
    "colab_type": "code",
    "id": "SH4WzfOhpKc3"
   },
   "outputs": [
    {
     "name": "stdout",
     "output_type": "stream",
     "text": [
      "Found 113 images belonging to 2 classes.\n"
     ]
    }
   ],
   "source": [
    "test_datagenarator = ImageDataGenerator(rescale = 1./255)\n",
    "test_set = test_datagenarator.flow_from_directory('dataset/test_set',\n",
    "                                            target_size = (64, 64),\n",
    "                                            batch_size = 5,\n",
    "                                            class_mode = 'binary')"
   ]
  },
  {
   "cell_type": "markdown",
   "metadata": {
    "colab_type": "text",
    "id": "ces1gXY2lmoX"
   },
   "source": [
    "### CNN init"
   ]
  },
  {
   "cell_type": "code",
   "execution_count": 4,
   "metadata": {
    "colab": {},
    "colab_type": "code",
    "id": "SAUt4UMPlhLS"
   },
   "outputs": [],
   "source": [
    "cnn = tf.keras.models.Sequential()"
   ]
  },
  {
   "cell_type": "markdown",
   "metadata": {
    "colab_type": "text",
    "id": "u5YJj_XMl5LF"
   },
   "source": [
    "###  Convolution Layer\n",
    "Feature Mapping (Applying filters)"
   ]
  },
  {
   "cell_type": "code",
   "execution_count": 5,
   "metadata": {
    "colab": {},
    "colab_type": "code",
    "id": "XPzPrMckl-hV"
   },
   "outputs": [],
   "source": [
    "cnn.add(tf.keras.layers.Conv2D(filters=32, kernel_size=3, activation='relu', input_shape=[64, 64, 3]))"
   ]
  },
  {
   "cell_type": "markdown",
   "metadata": {
    "colab_type": "text",
    "id": "tf87FpvxmNOJ"
   },
   "source": [
    "###  Pooling Layer (Max Pooling)\n",
    "Detect the features in any postition, background, light, texture and pattern"
   ]
  },
  {
   "cell_type": "code",
   "execution_count": 6,
   "metadata": {
    "colab": {},
    "colab_type": "code",
    "id": "ncpqPl69mOac"
   },
   "outputs": [],
   "source": [
    "cnn.add(tf.keras.layers.MaxPool2D(pool_size=2, strides=2))"
   ]
  },
  {
   "cell_type": "markdown",
   "metadata": {
    "colab_type": "text",
    "id": "xaTOgD8rm4mU"
   },
   "source": [
    "### Adding a second convolutional layer"
   ]
  },
  {
   "cell_type": "code",
   "execution_count": 7,
   "metadata": {
    "colab": {},
    "colab_type": "code",
    "id": "i_-FZjn_m8gk"
   },
   "outputs": [],
   "source": [
    "cnn.add(tf.keras.layers.Conv2D(filters=32, kernel_size=3, activation='relu'))\n",
    "cnn.add(tf.keras.layers.MaxPool2D(pool_size=2, strides=2))"
   ]
  },
  {
   "cell_type": "markdown",
   "metadata": {
    "colab_type": "text",
    "id": "tmiEuvTunKfk"
   },
   "source": [
    "### Flattening\n",
    "Rotate the matrix to a column matrix for future use of the ANN"
   ]
  },
  {
   "cell_type": "code",
   "execution_count": 8,
   "metadata": {
    "colab": {},
    "colab_type": "code",
    "id": "6AZeOGCvnNZn"
   },
   "outputs": [],
   "source": [
    "cnn.add(tf.keras.layers.Flatten())"
   ]
  },
  {
   "cell_type": "markdown",
   "metadata": {
    "colab_type": "text",
    "id": "dAoSECOm203v"
   },
   "source": [
    "### Full Connection\n",
    "Matching the features with the classes to make a prediction."
   ]
  },
  {
   "cell_type": "code",
   "execution_count": 9,
   "metadata": {
    "colab": {},
    "colab_type": "code",
    "id": "8GtmUlLd26Nq"
   },
   "outputs": [],
   "source": [
    "cnn.add(tf.keras.layers.Dense(units=128, activation='relu'))"
   ]
  },
  {
   "cell_type": "markdown",
   "metadata": {
    "colab_type": "text",
    "id": "yTldFvbX28Na"
   },
   "source": [
    "###  Output Layer"
   ]
  },
  {
   "cell_type": "code",
   "execution_count": 10,
   "metadata": {
    "colab": {},
    "colab_type": "code",
    "id": "1p_Zj1Mc3Ko_"
   },
   "outputs": [],
   "source": [
    "cnn.add(tf.keras.layers.Dense(units=1, activation='sigmoid'))"
   ]
  },
  {
   "cell_type": "markdown",
   "metadata": {
    "colab_type": "text",
    "id": "vfrFQACEnc6i"
   },
   "source": [
    "### Compiling the CNN\n",
    "We use Adam Optimizer to update network weights iterative based in training data."
   ]
  },
  {
   "cell_type": "code",
   "execution_count": 11,
   "metadata": {
    "colab": {},
    "colab_type": "code",
    "id": "NALksrNQpUlJ"
   },
   "outputs": [],
   "source": [
    "cnn.compile(optimizer = 'adam', loss = 'binary_crossentropy', metrics = ['accuracy'])"
   ]
  },
  {
   "cell_type": "markdown",
   "metadata": {
    "colab_type": "text",
    "id": "ehS-v3MIpX2h"
   },
   "source": [
    "### Trainning the CNN on the Trainning set and evaluating it on the Test set"
   ]
  },
  {
   "cell_type": "code",
   "execution_count": 12,
   "metadata": {
    "colab": {},
    "colab_type": "code",
    "id": "XUj1W4PJptta"
   },
   "outputs": [
    {
     "name": "stdout",
     "output_type": "stream",
     "text": [
      "Train for 17 steps, validate for 23 steps\n",
      "Epoch 1/10\n",
      "17/17 [==============================] - 10s 602ms/step - loss: 0.7680 - accuracy: 0.5714 - val_loss: 0.6371 - val_accuracy: 0.6549\n",
      "Epoch 2/10\n",
      "17/17 [==============================] - 6s 358ms/step - loss: 0.4813 - accuracy: 0.7659 - val_loss: 0.8265 - val_accuracy: 0.6637\n",
      "Epoch 3/10\n",
      "17/17 [==============================] - 6s 334ms/step - loss: 0.4315 - accuracy: 0.8333 - val_loss: 0.6160 - val_accuracy: 0.6018\n",
      "Epoch 4/10\n",
      "17/17 [==============================] - 6s 360ms/step - loss: 0.4207 - accuracy: 0.8254 - val_loss: 0.7114 - val_accuracy: 0.6372\n",
      "Epoch 5/10\n",
      "17/17 [==============================] - 6s 350ms/step - loss: 0.3086 - accuracy: 0.8730 - val_loss: 0.7567 - val_accuracy: 0.6726\n",
      "Epoch 6/10\n",
      "17/17 [==============================] - 6s 347ms/step - loss: 0.2398 - accuracy: 0.9127 - val_loss: 0.6931 - val_accuracy: 0.7168\n",
      "Epoch 7/10\n",
      "17/17 [==============================] - 6s 339ms/step - loss: 0.1903 - accuracy: 0.9206 - val_loss: 0.6559 - val_accuracy: 0.7080\n",
      "Epoch 8/10\n",
      "17/17 [==============================] - 6s 356ms/step - loss: 0.2376 - accuracy: 0.8929 - val_loss: 0.6599 - val_accuracy: 0.7257\n",
      "Epoch 9/10\n",
      "17/17 [==============================] - 6s 327ms/step - loss: 0.1235 - accuracy: 0.9563 - val_loss: 0.6156 - val_accuracy: 0.7168\n",
      "Epoch 10/10\n",
      "17/17 [==============================] - 5s 317ms/step - loss: 0.0982 - accuracy: 0.9563 - val_loss: 0.9429 - val_accuracy: 0.7080\n"
     ]
    }
   ],
   "source": [
    "history = cnn.fit(x = trainning_set, validation_data = test_set, epochs = 10)"
   ]
  },
  {
   "cell_type": "markdown",
   "metadata": {},
   "source": [
    "### Getting the Average accuracy among all the stages (epochs)"
   ]
  },
  {
   "cell_type": "code",
   "execution_count": 13,
   "metadata": {},
   "outputs": [
    {
     "name": "stdout",
     "output_type": "stream",
     "text": [
      "85.08  %\n"
     ]
    }
   ],
   "source": [
    "Avg_Acc = np.mean(history.history['accuracy'])\n",
    "print(round(Avg_Acc * 100,2),' %')"
   ]
  },
  {
   "cell_type": "markdown",
   "metadata": {},
   "source": [
    "### Printing the Accuracy"
   ]
  },
  {
   "cell_type": "code",
   "execution_count": 18,
   "metadata": {
    "scrolled": true
   },
   "outputs": [
    {
     "data": {
      "image/png": "[encoded data removed]",
      "text/plain": [
       "<Figure size 432x288 with 1 Axes>"
      ]
     },
     "metadata": {
      "needs_background": "light"
     },
     "output_type": "display_data"
    }
   ],
   "source": [
    "import matplotlib.pyplot as plt\n",
    "plt.plot(history.history['accuracy'])\n",
    "plt.plot(history.history['val_accuracy'])\n",
    "plt.title('Plant Recognition Model Accuracy. ')\n",
    "plt.xlabel('Per Epoch.')\n",
    "plt.ylabel('Accuracy')\n",
    "plt.legend(['Trainning', 'Testing'], loc='upper left')\n",
    "plt.show()"
   ]
  },
  {
   "cell_type": "markdown",
   "metadata": {
    "colab_type": "text",
    "id": "U3PZasO0006Z"
   },
   "source": [
    "##  Making a prediction"
   ]
  },
  {
   "cell_type": "code",
   "execution_count": 21,
   "metadata": {
    "colab": {},
    "colab_type": "code",
    "id": "gsSiWEJY1BPB"
   },
   "outputs": [],
   "source": [
    "from keras.preprocessing import image\n",
    "test_image = image.load_img('dataset/single_prediction/wheat_or_rice_2.jpg', target_size = (64, 64))\n",
    "test_image = image.img_to_array(test_image)\n",
    "test_image = np.expand_dims(test_image, axis = 0)\n",
    "result = cnn.predict(test_image)\n",
    "if result[0][0] == 1:\n",
    "  prediction = 'Wheat Plant.'\n",
    "else:\n",
    "  prediction = 'Rice Plant.'"
   ]
  },
  {
   "cell_type": "code",
   "execution_count": 22,
   "metadata": {
    "colab": {},
    "colab_type": "code",
    "id": "ED9KB3I54c1i"
   },
   "outputs": [
    {
     "name": "stdout",
     "output_type": "stream",
     "text": [
      "Wheat Plant.\n"
     ]
    }
   ],
   "source": [
    "print(prediction)"
   ]
  },
  {
   "cell_type": "markdown",
   "metadata": {},
   "source": [
    "<center><b>End of Notebook.</b></center>"
   ]
  }
 ],
 "metadata": {
  "colab": {
   "collapsed_sections": [],
   "name": "convolutional_neural_network.ipynb",
   "provenance": [],
   "toc_visible": true
  },
  "kernelspec": {
   "display_name": "Python 3",
   "language": "python",
   "name": "python3"
  },
  "language_info": {
   "codemirror_mode": {
    "name": "ipython",
    "version": 3
   },
   "file_extension": ".py",
   "mimetype": "text/x-python",
   "name": "python",
   "nbconvert_exporter": "python",
   "pygments_lexer": "ipython3",
   "version": "3.7.3"
  }
 },
 "nbformat": 4,
 "nbformat_minor": 1
}
