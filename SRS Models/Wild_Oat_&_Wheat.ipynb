{
 "cells": [
  {
   "cell_type": "markdown",
   "metadata": {
    "colab_type": "text",
    "id": "3DR-eO17geWu"
   },
   "source": [
    "<h1>Wheat & Wild Oat Recognition using Convolutional Neural Network.</h1>"
   ]
  },
  {
   "cell_type": "markdown",
   "metadata": {},
   "source": [
    "## *Problem Statement*:\n",
    "This model diffrentiates between Wild Oat & Wheat using our collected <a href=\"https://github.com/BonyGeorge/Wheat-Impurities-Detection/tree/master/DataSets/Dataset%201\"> Wild Oat Dataset</a> and Global wheat detection <a href=\"\"> Wheat Dataset</a>.\n",
    "\n",
    "## *Authors*:\n",
    "<ul>\n",
    "    <li>Nour Bahaa</li>\n",
    "    <li>Mai Mahmoud</li>\n",
    "    <li>Ibrahim Fawzy</li>\n",
    "    <li>Abanoub George</li>\n",
    "</ul>\n",
    "\n",
    "## *Supervisors*:\n",
    "<ul>\n",
    "    <li>Prof. Khaled Hussien</li>\n",
    "    <li>Eng. Hager Sobeah</li>\n",
    "    <li>Eng. Nour el-huda Ashraf</li>\n",
    "</ul>\n",
    "\n"
   ]
  },
  {
   "cell_type": "markdown",
   "metadata": {
    "colab_type": "text",
    "id": "EMefrVPCg-60"
   },
   "source": [
    "### Importing the main libraries"
   ]
  },
  {
   "cell_type": "code",
   "execution_count": 1,
   "metadata": {
    "colab": {},
    "colab_type": "code",
    "id": "sCV30xyVhFbE",
    "scrolled": false
   },
   "outputs": [
    {
     "name": "stderr",
     "output_type": "stream",
     "text": [
      "Using TensorFlow backend.\n"
     ]
    }
   ],
   "source": [
    "import tensorflow as tf\n",
    "from keras.preprocessing.image import ImageDataGenerator\n",
    "import numpy as np"
   ]
  },
  {
   "cell_type": "markdown",
   "metadata": {
    "colab_type": "text",
    "id": "MvE-heJNo3GG"
   },
   "source": [
    "### Pre-processing on the Trainning set (*Image Augmentation*)\n",
    "We are applying some geometerical tranformation to move the pixels to prevent overfitting of the model (Zoom In, Zoom Out, Rotations). "
   ]
  },
  {
   "cell_type": "code",
   "execution_count": 2,
   "metadata": {
    "colab": {},
    "colab_type": "code",
    "id": "0koUcJMJpEBD"
   },
   "outputs": [
    {
     "name": "stdout",
     "output_type": "stream",
     "text": [
      "Found 104 images belonging to 2 classes.\n"
     ]
    }
   ],
   "source": [
    "train_datagenarator = ImageDataGenerator(rescale = 1./255,\n",
    "                                         shear_range = 0.2,\n",
    "                                         zoom_range = 0.2,\n",
    "                                         horizontal_flip = True)\n",
    "\n",
    "trainning_set = train_datagenarator.flow_from_directory('dataset/trainning_set',\n",
    "                                                         target_size = (64, 64),\n",
    "                                                         batch_size = 15,\n",
    "                                                         class_mode = 'binary')"
   ]
  },
  {
   "cell_type": "markdown",
   "metadata": {
    "colab_type": "text",
    "id": "mrCMmGw9pHys"
   },
   "source": [
    "### Pre-processing on the Test set"
   ]
  },
  {
   "cell_type": "code",
   "execution_count": 3,
   "metadata": {
    "colab": {},
    "colab_type": "code",
    "id": "SH4WzfOhpKc3"
   },
   "outputs": [
    {
     "name": "stdout",
     "output_type": "stream",
     "text": [
      "Found 40 images belonging to 2 classes.\n"
     ]
    }
   ],
   "source": [
    "test_datagenarator = ImageDataGenerator(rescale = 1./255)\n",
    "test_set = test_datagenarator.flow_from_directory('dataset2/test_set',\n",
    "                                                   target_size = (64, 64),\n",
    "                                                   batch_size = 5,\n",
    "                                                   class_mode = 'binary')"
   ]
  },
  {
   "cell_type": "markdown",
   "metadata": {
    "colab_type": "text",
    "id": "ces1gXY2lmoX"
   },
   "source": [
    "### CNN init\n",
    "Intiating Our Convolutional Neural Network"
   ]
  },
  {
   "cell_type": "code",
   "execution_count": 4,
   "metadata": {
    "colab": {},
    "colab_type": "code",
    "id": "SAUt4UMPlhLS"
   },
   "outputs": [],
   "source": [
    "cnn = tf.keras.models.Sequential()"
   ]
  },
  {
   "cell_type": "markdown",
   "metadata": {
    "colab_type": "text",
    "id": "u5YJj_XMl5LF"
   },
   "source": [
    "###  Convolution Layer\n",
    "Feature Mapping (Applying filters), the activation function(ReLu) is responsible for performance enhancement because, it will output if positive, otherwise, it will output zero "
   ]
  },
  {
   "cell_type": "code",
   "execution_count": 5,
   "metadata": {
    "colab": {},
    "colab_type": "code",
    "id": "XPzPrMckl-hV"
   },
   "outputs": [],
   "source": [
    "cnn.add(tf.keras.layers.Conv2D(filters=32,\n",
    "                               kernel_size=3,\n",
    "                               activation='relu',\n",
    "                               input_shape=[64, 64, 3]))"
   ]
  },
  {
   "cell_type": "markdown",
   "metadata": {
    "colab_type": "text",
    "id": "tf87FpvxmNOJ"
   },
   "source": [
    "###  Pooling Layer (Max Pooling)\n",
    "Detect the features in any postition, background, light, texture and pattern"
   ]
  },
  {
   "cell_type": "code",
   "execution_count": 6,
   "metadata": {
    "colab": {},
    "colab_type": "code",
    "id": "ncpqPl69mOac"
   },
   "outputs": [],
   "source": [
    "cnn.add(tf.keras.layers.MaxPool2D(pool_size=2, strides=2))"
   ]
  },
  {
   "cell_type": "markdown",
   "metadata": {
    "colab_type": "text",
    "id": "xaTOgD8rm4mU"
   },
   "source": [
    "### Adding a second convolutional layer & poolin layer"
   ]
  },
  {
   "cell_type": "code",
   "execution_count": 7,
   "metadata": {
    "colab": {},
    "colab_type": "code",
    "id": "i_-FZjn_m8gk"
   },
   "outputs": [],
   "source": [
    "cnn.add(tf.keras.layers.Conv2D(filters=32,\n",
    "                               kernel_size=3,      # Kernal Size is the width and height of the 2D convolution window.\n",
    "\n",
    "                               activation='relu'))\n",
    "cnn.add(tf.keras.layers.MaxPool2D(pool_size=2, strides=2))"
   ]
  },
  {
   "cell_type": "markdown",
   "metadata": {
    "colab_type": "text",
    "id": "tmiEuvTunKfk"
   },
   "source": [
    "### Flattening\n",
    "Rotate the matrix to a column matrix for future use of the ANN"
   ]
  },
  {
   "cell_type": "code",
   "execution_count": 8,
   "metadata": {
    "colab": {},
    "colab_type": "code",
    "id": "6AZeOGCvnNZn"
   },
   "outputs": [],
   "source": [
    "cnn.add(tf.keras.layers.Flatten())"
   ]
  },
  {
   "cell_type": "markdown",
   "metadata": {
    "colab_type": "text",
    "id": "dAoSECOm203v"
   },
   "source": [
    "### Full Connection\n",
    "Matching the features with the classes to make a prediction. (units= Hidden Neurons)"
   ]
  },
  {
   "cell_type": "code",
   "execution_count": 9,
   "metadata": {
    "colab": {},
    "colab_type": "code",
    "id": "8GtmUlLd26Nq"
   },
   "outputs": [],
   "source": [
    "cnn.add(tf.keras.layers.Dense(units=128, activation='relu'))"
   ]
  },
  {
   "cell_type": "markdown",
   "metadata": {
    "colab_type": "text",
    "id": "yTldFvbX28Na"
   },
   "source": [
    "###  Output Layer"
   ]
  },
  {
   "cell_type": "code",
   "execution_count": 10,
   "metadata": {
    "colab": {},
    "colab_type": "code",
    "id": "1p_Zj1Mc3Ko_"
   },
   "outputs": [],
   "source": [
    "cnn.add(tf.keras.layers.Dense(units=1, activation='sigmoid'))"
   ]
  },
  {
   "cell_type": "markdown",
   "metadata": {
    "colab_type": "text",
    "id": "vfrFQACEnc6i"
   },
   "source": [
    "### Compiling the CNN\n",
    "We used Adam Optimizer to update network weights iterative based in training data."
   ]
  },
  {
   "cell_type": "code",
   "execution_count": 11,
   "metadata": {
    "colab": {},
    "colab_type": "code",
    "id": "NALksrNQpUlJ"
   },
   "outputs": [],
   "source": [
    "cnn.compile(optimizer = 'adam',\n",
    "            loss = 'binary_crossentropy',\n",
    "            metrics = ['accuracy'])"
   ]
  },
  {
   "cell_type": "markdown",
   "metadata": {
    "colab_type": "text",
    "id": "ehS-v3MIpX2h"
   },
   "source": [
    "### Trainning the CNN on the Trainning set and evaluating it on the Test set"
   ]
  },
  {
   "cell_type": "code",
   "execution_count": 12,
   "metadata": {
    "colab": {},
    "colab_type": "code",
    "id": "XUj1W4PJptta"
   },
   "outputs": [
    {
     "name": "stdout",
     "output_type": "stream",
     "text": [
      "Train for 7 steps, validate for 8 steps\n",
      "Epoch 1/30\n",
      "7/7 [==============================] - 15s 2s/step - loss: 0.7843 - accuracy: 0.5962 - val_loss: 0.5298 - val_accuracy: 0.7500\n",
      "Epoch 2/30\n",
      "7/7 [==============================] - 13s 2s/step - loss: 0.6696 - accuracy: 0.5769 - val_loss: 0.5630 - val_accuracy: 0.7500\n",
      "Epoch 3/30\n",
      "7/7 [==============================] - 13s 2s/step - loss: 0.5801 - accuracy: 0.6827 - val_loss: 0.7245 - val_accuracy: 0.7500\n",
      "Epoch 4/30\n",
      "7/7 [==============================] - 13s 2s/step - loss: 0.5117 - accuracy: 0.7788 - val_loss: 1.2832 - val_accuracy: 0.7500\n",
      "Epoch 5/30\n",
      "7/7 [==============================] - 13s 2s/step - loss: 0.4669 - accuracy: 0.7308 - val_loss: 1.3078 - val_accuracy: 0.7500\n",
      "Epoch 6/30\n",
      "7/7 [==============================] - 13s 2s/step - loss: 0.3819 - accuracy: 0.7981 - val_loss: 0.9885 - val_accuracy: 0.6750\n",
      "Epoch 7/30\n",
      "7/7 [==============================] - 13s 2s/step - loss: 0.5094 - accuracy: 0.7981 - val_loss: 2.6522 - val_accuracy: 0.7500\n",
      "Epoch 8/30\n",
      "7/7 [==============================] - 13s 2s/step - loss: 0.3806 - accuracy: 0.8269 - val_loss: 1.4019 - val_accuracy: 0.7000\n",
      "Epoch 9/30\n",
      "7/7 [==============================] - 12s 2s/step - loss: 0.5003 - accuracy: 0.7885 - val_loss: 2.0447 - val_accuracy: 0.7500\n",
      "Epoch 10/30\n",
      "7/7 [==============================] - 13s 2s/step - loss: 0.3317 - accuracy: 0.8750 - val_loss: 2.5037 - val_accuracy: 0.7500\n",
      "Epoch 11/30\n",
      "7/7 [==============================] - 13s 2s/step - loss: 0.4492 - accuracy: 0.7885 - val_loss: 1.7601 - val_accuracy: 0.7500\n",
      "Epoch 12/30\n",
      "7/7 [==============================] - 13s 2s/step - loss: 0.3879 - accuracy: 0.8462 - val_loss: 2.6497 - val_accuracy: 0.7500\n",
      "Epoch 13/30\n",
      "7/7 [==============================] - 13s 2s/step - loss: 0.3552 - accuracy: 0.8269 - val_loss: 1.4553 - val_accuracy: 0.7250\n",
      "Epoch 14/30\n",
      "7/7 [==============================] - 13s 2s/step - loss: 0.3386 - accuracy: 0.8462 - val_loss: 2.6800 - val_accuracy: 0.7500\n",
      "Epoch 15/30\n",
      "7/7 [==============================] - 12s 2s/step - loss: 0.3341 - accuracy: 0.8462 - val_loss: 2.3293 - val_accuracy: 0.7500\n",
      "Epoch 16/30\n",
      "7/7 [==============================] - 13s 2s/step - loss: 0.1982 - accuracy: 0.9712 - val_loss: 3.5271 - val_accuracy: 0.7500\n",
      "Epoch 17/30\n",
      "7/7 [==============================] - 13s 2s/step - loss: 0.3910 - accuracy: 0.8462 - val_loss: 3.1540 - val_accuracy: 0.7500\n",
      "Epoch 18/30\n",
      "7/7 [==============================] - 13s 2s/step - loss: 0.3881 - accuracy: 0.8558 - val_loss: 1.3989 - val_accuracy: 0.7500\n",
      "Epoch 19/30\n",
      "7/7 [==============================] - 13s 2s/step - loss: 0.3704 - accuracy: 0.8462 - val_loss: 2.2097 - val_accuracy: 0.7500\n",
      "Epoch 20/30\n",
      "7/7 [==============================] - 13s 2s/step - loss: 0.2755 - accuracy: 0.8942 - val_loss: 2.0401 - val_accuracy: 0.7500\n",
      "Epoch 21/30\n",
      "7/7 [==============================] - 13s 2s/step - loss: 0.2435 - accuracy: 0.8942 - val_loss: 3.4562 - val_accuracy: 0.7500\n",
      "Epoch 22/30\n",
      "7/7 [==============================] - 13s 2s/step - loss: 0.1990 - accuracy: 0.9038 - val_loss: 2.9606 - val_accuracy: 0.7500\n",
      "Epoch 23/30\n",
      "7/7 [==============================] - 13s 2s/step - loss: 0.1923 - accuracy: 0.9135 - val_loss: 3.6658 - val_accuracy: 0.7500\n",
      "Epoch 24/30\n",
      "7/7 [==============================] - 13s 2s/step - loss: 0.1665 - accuracy: 0.9231 - val_loss: 2.9723 - val_accuracy: 0.7500\n",
      "Epoch 25/30\n",
      "7/7 [==============================] - 13s 2s/step - loss: 0.1142 - accuracy: 0.9615 - val_loss: 3.7136 - val_accuracy: 0.7500\n",
      "Epoch 26/30\n",
      "7/7 [==============================] - 13s 2s/step - loss: 0.0981 - accuracy: 0.9712 - val_loss: 3.1724 - val_accuracy: 0.7500\n",
      "Epoch 27/30\n",
      "7/7 [==============================] - 13s 2s/step - loss: 0.0907 - accuracy: 0.9615 - val_loss: 3.4939 - val_accuracy: 0.7500\n",
      "Epoch 28/30\n",
      "7/7 [==============================] - 14s 2s/step - loss: 0.0748 - accuracy: 0.9904 - val_loss: 2.9691 - val_accuracy: 0.7500\n",
      "Epoch 29/30\n",
      "7/7 [==============================] - 13s 2s/step - loss: 0.0545 - accuracy: 0.9904 - val_loss: 3.1367 - val_accuracy: 0.7500\n",
      "Epoch 30/30\n",
      "7/7 [==============================] - 13s 2s/step - loss: 0.0720 - accuracy: 0.9712 - val_loss: 3.3577 - val_accuracy: 0.7500\n"
     ]
    }
   ],
   "source": [
    "history = cnn.fit(x = trainning_set,\n",
    "                  validation_data = test_set,\n",
    "                  epochs = 30)"
   ]
  },
  {
   "cell_type": "markdown",
   "metadata": {},
   "source": [
    "### Getting the Average accuracy among all the stages (epochs)"
   ]
  },
  {
   "cell_type": "code",
   "execution_count": 13,
   "metadata": {},
   "outputs": [
    {
     "name": "stdout",
     "output_type": "stream",
     "text": [
      "The Average Accuracy :  85.0  %\n"
     ]
    }
   ],
   "source": [
    "Avg_Acc = np.mean(history.history['accuracy'])\n",
    "print(\"The Average Accuracy : \", round(Avg_Acc * 100, 2),' %')"
   ]
  },
  {
   "cell_type": "markdown",
   "metadata": {},
   "source": [
    "### Plotting the Accuracy among all the epochs"
   ]
  },
  {
   "cell_type": "code",
   "execution_count": 14,
   "metadata": {
    "scrolled": true
   },
   "outputs": [
    {
     "data": {
      "image/png": "[encoded data removed]",
      "text/plain": [
       "<Figure size 432x288 with 1 Axes>"
      ]
     },
     "metadata": {
      "needs_background": "light"
     },
     "output_type": "display_data"
    }
   ],
   "source": [
    "import matplotlib.pyplot as plt\n",
    "plt.plot(history.history['accuracy'])\n",
    "plt.plot(history.history['val_accuracy'])\n",
    "plt.title('Wheat & Wild Oat Model Accuracy. ')\n",
    "plt.xlabel('Per Epoch.')\n",
    "plt.ylabel('Accuracy')\n",
    "plt.legend(['Trainning', 'Testing'], loc='upper left')\n",
    "plt.show()"
   ]
  },
  {
   "cell_type": "markdown",
   "metadata": {
    "colab_type": "text",
    "id": "U3PZasO0006Z"
   },
   "source": [
    "##  Making a prediction"
   ]
  },
  {
   "cell_type": "code",
   "execution_count": 15,
   "metadata": {
    "colab": {},
    "colab_type": "code",
    "id": "gsSiWEJY1BPB"
   },
   "outputs": [],
   "source": [
    "from keras.preprocessing import image\n",
    "test_image = image.load_img('dataset/single_prediction/test3.jpeg', target_size = (64, 64))\n",
    "test_image = image.img_to_array(test_image)\n",
    "test_image = np.expand_dims(test_image, axis = 0)\n",
    "result = cnn.predict(test_image)\n",
    "if result[0][0] == 1:\n",
    "  prediction = 'Wheat Plant.'\n",
    "else:\n",
    "  prediction = 'Wild Oat Plant.'"
   ]
  },
  {
   "cell_type": "code",
   "execution_count": 16,
   "metadata": {},
   "outputs": [
    {
     "data": {
      "image/jpeg": "[encoded data removed]",
      "text/plain": [
       "<IPython.core.display.Image object>"
      ]
     },
     "execution_count": 16,
     "metadata": {
      "image/jpeg": {
       "height": 300,
       "width": 400
      }
     },
     "output_type": "execute_result"
    }
   ],
   "source": [
    "from IPython.display import Image\n",
    "Image(filename='dataset/single_prediction/test3.jpeg', width=400, height=300)"
   ]
  },
  {
   "cell_type": "code",
   "execution_count": 17,
   "metadata": {
    "colab": {},
    "colab_type": "code",
    "id": "ED9KB3I54c1i"
   },
   "outputs": [
    {
     "name": "stdout",
     "output_type": "stream",
     "text": [
      "Wheat Plant.\n"
     ]
    }
   ],
   "source": [
    "print(prediction)"
   ]
  },
  {
   "cell_type": "code",
   "execution_count": 26,
   "metadata": {},
   "outputs": [
    {
     "name": "stdout",
     "output_type": "stream",
     "text": [
      "Found 40 images belonging to 2 classes.\n"
     ]
    }
   ],
   "source": [
    "test_generator = ImageDataGenerator()\n",
    "test_data_generator = test_generator.flow_from_directory(\n",
    "    'dataset2/test_set', # Put your path here\n",
    "     target_size=(64, 64),\n",
    "    batch_size=15,\n",
    "    shuffle=False)\n",
    "test_steps_per_epoch = np.math.ceil(test_data_generator.samples / test_data_generator.batch_size)\n",
    "\n",
    "predictions = cnn.predict_generator(test_data_generator, steps=test_steps_per_epoch)\n",
    "# Get most likely class\n",
    "predicted_classes = np.argmax(predictions, axis=1)"
   ]
  },
  {
   "cell_type": "code",
   "execution_count": 27,
   "metadata": {},
   "outputs": [
    {
     "name": "stdout",
     "output_type": "stream",
     "text": [
      "['wheat', 'wild oat']\n"
     ]
    }
   ],
   "source": [
    "true_classes = test_data_generator.classes\n",
    "class_labels = list(test_data_generator.class_indices.keys())  \n",
    "print(class_labels)"
   ]
  },
  {
   "cell_type": "code",
   "execution_count": 28,
   "metadata": {},
   "outputs": [
    {
     "name": "stdout",
     "output_type": "stream",
     "text": [
      "              precision    recall  f1-score   support\n",
      "\n",
      "       wheat       0.75      1.00      0.86        30\n",
      "    wild oat       0.00      0.00      0.00        10\n",
      "\n",
      "    accuracy                           0.75        40\n",
      "   macro avg       0.38      0.50      0.43        40\n",
      "weighted avg       0.56      0.75      0.64        40\n",
      "\n"
     ]
    }
   ],
   "source": [
    "import sklearn.metrics as metrics\n",
    "report = metrics.classification_report(true_classes, predicted_classes, target_names=class_labels, zero_division=0)\n",
    "print(report)    "
   ]
  },
  {
   "cell_type": "markdown",
   "metadata": {},
   "source": [
    "<center><b>End of Notebook.</b></center>"
   ]
  }
 ],
 "metadata": {
  "colab": {
   "collapsed_sections": [],
   "name": "convolutional_neural_network.ipynb",
   "provenance": [],
   "toc_visible": true
  },
  "kernelspec": {
   "display_name": "Python 3",
   "language": "python",
   "name": "python3"
  },
  "language_info": {
   "codemirror_mode": {
    "name": "ipython",
    "version": 3
   },
   "file_extension": ".py",
   "mimetype": "text/x-python",
   "name": "python",
   "nbconvert_exporter": "python",
   "pygments_lexer": "ipython3",
   "version": "3.7.3"
  }
 },
 "nbformat": 4,
 "nbformat_minor": 1
}
